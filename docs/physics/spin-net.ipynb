{
 "cells": [
  {
   "cell_type": "markdown",
   "id": "878fb157",
   "metadata": {},
   "source": [
    "# 3D Tetrahedron Visualization with Quantum States\n",
    "\n",
    "This notebook creates an interactive 3D visualization of a tetrahedron graph and its corresponding quantum state representation.\n",
    "We use:\n",
    "- `networkx` for graph creation\n",
    "- `plotly` for interactive 3D visualization\n",
    "- `qutip` for quantum state representation"
   ]
  },
  {
   "cell_type": "code",
   "execution_count": 1,
   "id": "18ff2cf2",
   "metadata": {},
   "outputs": [
    {
     "data": {
      "text/html": [
       "<script>\n",
       "        if (typeof Jupyter !== 'undefined') {\n",
       "            require.config({\n",
       "                paths: {\n",
       "                    'jupyter-js-widgets': 'nbextensions/jupyter-js-widgets/extension'\n",
       "                }\n",
       "            });\n",
       "            require(['jupyter-js-widgets'], function(widgets) {\n",
       "                console.log('Widgets loaded successfully');\n",
       "            });\n",
       "        }\n",
       "    </script>"
      ],
      "text/plain": [
       "<IPython.core.display.HTML object>"
      ]
     },
     "metadata": {},
     "output_type": "display_data"
    }
   ],
   "source": [
    "# Initialize Jupyter widgets\n",
    "import ipywidgets as widgets\n",
    "from IPython.display import display, HTML\n",
    "\n",
    "# Enable widget support\n",
    "try:\n",
    "    display(HTML('''<script>\n",
    "        if (typeof Jupyter !== 'undefined') {\n",
    "            require.config({\n",
    "                paths: {\n",
    "                    'jupyter-js-widgets': 'nbextensions/jupyter-js-widgets/extension'\n",
    "                }\n",
    "            });\n",
    "            require(['jupyter-js-widgets'], function(widgets) {\n",
    "                console.log('Widgets loaded successfully');\n",
    "            });\n",
    "        }\n",
    "    </script>'''))\n",
    "except:\n",
    "    print('Note: Widget initialization code run. If widgets still don\\'t display, please ensure you have the Jupyter extension installed in VSCode.')"
   ]
  },
  {
   "cell_type": "code",
   "execution_count": 3,
   "id": "025326c7",
   "metadata": {},
   "outputs": [
    {
     "data": {
      "application/vnd.plotly.v1+json": {
       "config": {
        "plotlyServerURL": "https://plot.ly"
       },
       "data": [
        {
         "line": {
          "color": "blue",
          "width": 2
         },
         "mode": "lines",
         "name": "Edges",
         "type": "scatter3d",
         "x": [
          0,
          1,
          null,
          0,
          0.5,
          null,
          0,
          0.5,
          null,
          1,
          0.5,
          null,
          1,
          0.5,
          null,
          0.5,
          0.5,
          null
         ],
         "y": [
          0,
          0,
          null,
          0,
          0.866,
          null,
          0,
          0.289,
          null,
          0,
          0.866,
          null,
          0,
          0.289,
          null,
          0.866,
          0.289,
          null
         ],
         "z": [
          0,
          0,
          null,
          0,
          0,
          null,
          0,
          0.866,
          null,
          0,
          0,
          null,
          0,
          0.866,
          null,
          0,
          0.866,
          null
         ]
        },
        {
         "marker": {
          "color": "red",
          "size": 12
         },
         "mode": "markers+text",
         "name": "Nodes",
         "text": [
          "0",
          "1",
          "2",
          "3"
         ],
         "type": "scatter3d",
         "x": [
          0,
          1,
          0.5,
          0.5
         ],
         "y": [
          0,
          0,
          0.866,
          0.289
         ],
         "z": [
          0,
          0,
          0,
          0.866
         ]
        }
       ],
       "layout": {
        "height": 400,
        "margin": {
         "b": 0,
         "l": 0,
         "r": 0,
         "t": 50
        },
        "scene": {
         "aspectmode": "cube",
         "xaxis": {
          "title": {
           "text": "X"
          }
         },
         "yaxis": {
          "title": {
           "text": "Y"
          }
         },
         "zaxis": {
          "title": {
           "text": "Z"
          }
         }
        },
        "showlegend": true,
        "template": {
         "data": {
          "bar": [
           {
            "error_x": {
             "color": "#2a3f5f"
            },
            "error_y": {
             "color": "#2a3f5f"
            },
            "marker": {
             "line": {
              "color": "#E5ECF6",
              "width": 0.5
             },
             "pattern": {
              "fillmode": "overlay",
              "size": 10,
              "solidity": 0.2
             }
            },
            "type": "bar"
           }
          ],
          "barpolar": [
           {
            "marker": {
             "line": {
              "color": "#E5ECF6",
              "width": 0.5
             },
             "pattern": {
              "fillmode": "overlay",
              "size": 10,
              "solidity": 0.2
             }
            },
            "type": "barpolar"
           }
          ],
          "carpet": [
           {
            "aaxis": {
             "endlinecolor": "#2a3f5f",
             "gridcolor": "white",
             "linecolor": "white",
             "minorgridcolor": "white",
             "startlinecolor": "#2a3f5f"
            },
            "baxis": {
             "endlinecolor": "#2a3f5f",
             "gridcolor": "white",
             "linecolor": "white",
             "minorgridcolor": "white",
             "startlinecolor": "#2a3f5f"
            },
            "type": "carpet"
           }
          ],
          "choropleth": [
           {
            "colorbar": {
             "outlinewidth": 0,
             "ticks": ""
            },
            "type": "choropleth"
           }
          ],
          "contour": [
           {
            "colorbar": {
             "outlinewidth": 0,
             "ticks": ""
            },
            "colorscale": [
             [
              0,
              "#0d0887"
             ],
             [
              0.1111111111111111,
              "#46039f"
             ],
             [
              0.2222222222222222,
              "#7201a8"
             ],
             [
              0.3333333333333333,
              "#9c179e"
             ],
             [
              0.4444444444444444,
              "#bd3786"
             ],
             [
              0.5555555555555556,
              "#d8576b"
             ],
             [
              0.6666666666666666,
              "#ed7953"
             ],
             [
              0.7777777777777778,
              "#fb9f3a"
             ],
             [
              0.8888888888888888,
              "#fdca26"
             ],
             [
              1,
              "#f0f921"
             ]
            ],
            "type": "contour"
           }
          ],
          "contourcarpet": [
           {
            "colorbar": {
             "outlinewidth": 0,
             "ticks": ""
            },
            "type": "contourcarpet"
           }
          ],
          "heatmap": [
           {
            "colorbar": {
             "outlinewidth": 0,
             "ticks": ""
            },
            "colorscale": [
             [
              0,
              "#0d0887"
             ],
             [
              0.1111111111111111,
              "#46039f"
             ],
             [
              0.2222222222222222,
              "#7201a8"
             ],
             [
              0.3333333333333333,
              "#9c179e"
             ],
             [
              0.4444444444444444,
              "#bd3786"
             ],
             [
              0.5555555555555556,
              "#d8576b"
             ],
             [
              0.6666666666666666,
              "#ed7953"
             ],
             [
              0.7777777777777778,
              "#fb9f3a"
             ],
             [
              0.8888888888888888,
              "#fdca26"
             ],
             [
              1,
              "#f0f921"
             ]
            ],
            "type": "heatmap"
           }
          ],
          "histogram": [
           {
            "marker": {
             "pattern": {
              "fillmode": "overlay",
              "size": 10,
              "solidity": 0.2
             }
            },
            "type": "histogram"
           }
          ],
          "histogram2d": [
           {
            "colorbar": {
             "outlinewidth": 0,
             "ticks": ""
            },
            "colorscale": [
             [
              0,
              "#0d0887"
             ],
             [
              0.1111111111111111,
              "#46039f"
             ],
             [
              0.2222222222222222,
              "#7201a8"
             ],
             [
              0.3333333333333333,
              "#9c179e"
             ],
             [
              0.4444444444444444,
              "#bd3786"
             ],
             [
              0.5555555555555556,
              "#d8576b"
             ],
             [
              0.6666666666666666,
              "#ed7953"
             ],
             [
              0.7777777777777778,
              "#fb9f3a"
             ],
             [
              0.8888888888888888,
              "#fdca26"
             ],
             [
              1,
              "#f0f921"
             ]
            ],
            "type": "histogram2d"
           }
          ],
          "histogram2dcontour": [
           {
            "colorbar": {
             "outlinewidth": 0,
             "ticks": ""
            },
            "colorscale": [
             [
              0,
              "#0d0887"
             ],
             [
              0.1111111111111111,
              "#46039f"
             ],
             [
              0.2222222222222222,
              "#7201a8"
             ],
             [
              0.3333333333333333,
              "#9c179e"
             ],
             [
              0.4444444444444444,
              "#bd3786"
             ],
             [
              0.5555555555555556,
              "#d8576b"
             ],
             [
              0.6666666666666666,
              "#ed7953"
             ],
             [
              0.7777777777777778,
              "#fb9f3a"
             ],
             [
              0.8888888888888888,
              "#fdca26"
             ],
             [
              1,
              "#f0f921"
             ]
            ],
            "type": "histogram2dcontour"
           }
          ],
          "mesh3d": [
           {
            "colorbar": {
             "outlinewidth": 0,
             "ticks": ""
            },
            "type": "mesh3d"
           }
          ],
          "parcoords": [
           {
            "line": {
             "colorbar": {
              "outlinewidth": 0,
              "ticks": ""
             }
            },
            "type": "parcoords"
           }
          ],
          "pie": [
           {
            "automargin": true,
            "type": "pie"
           }
          ],
          "scatter": [
           {
            "fillpattern": {
             "fillmode": "overlay",
             "size": 10,
             "solidity": 0.2
            },
            "type": "scatter"
           }
          ],
          "scatter3d": [
           {
            "line": {
             "colorbar": {
              "outlinewidth": 0,
              "ticks": ""
             }
            },
            "marker": {
             "colorbar": {
              "outlinewidth": 0,
              "ticks": ""
             }
            },
            "type": "scatter3d"
           }
          ],
          "scattercarpet": [
           {
            "marker": {
             "colorbar": {
              "outlinewidth": 0,
              "ticks": ""
             }
            },
            "type": "scattercarpet"
           }
          ],
          "scattergeo": [
           {
            "marker": {
             "colorbar": {
              "outlinewidth": 0,
              "ticks": ""
             }
            },
            "type": "scattergeo"
           }
          ],
          "scattergl": [
           {
            "marker": {
             "colorbar": {
              "outlinewidth": 0,
              "ticks": ""
             }
            },
            "type": "scattergl"
           }
          ],
          "scattermap": [
           {
            "marker": {
             "colorbar": {
              "outlinewidth": 0,
              "ticks": ""
             }
            },
            "type": "scattermap"
           }
          ],
          "scattermapbox": [
           {
            "marker": {
             "colorbar": {
              "outlinewidth": 0,
              "ticks": ""
             }
            },
            "type": "scattermapbox"
           }
          ],
          "scatterpolar": [
           {
            "marker": {
             "colorbar": {
              "outlinewidth": 0,
              "ticks": ""
             }
            },
            "type": "scatterpolar"
           }
          ],
          "scatterpolargl": [
           {
            "marker": {
             "colorbar": {
              "outlinewidth": 0,
              "ticks": ""
             }
            },
            "type": "scatterpolargl"
           }
          ],
          "scatterternary": [
           {
            "marker": {
             "colorbar": {
              "outlinewidth": 0,
              "ticks": ""
             }
            },
            "type": "scatterternary"
           }
          ],
          "surface": [
           {
            "colorbar": {
             "outlinewidth": 0,
             "ticks": ""
            },
            "colorscale": [
             [
              0,
              "#0d0887"
             ],
             [
              0.1111111111111111,
              "#46039f"
             ],
             [
              0.2222222222222222,
              "#7201a8"
             ],
             [
              0.3333333333333333,
              "#9c179e"
             ],
             [
              0.4444444444444444,
              "#bd3786"
             ],
             [
              0.5555555555555556,
              "#d8576b"
             ],
             [
              0.6666666666666666,
              "#ed7953"
             ],
             [
              0.7777777777777778,
              "#fb9f3a"
             ],
             [
              0.8888888888888888,
              "#fdca26"
             ],
             [
              1,
              "#f0f921"
             ]
            ],
            "type": "surface"
           }
          ],
          "table": [
           {
            "cells": {
             "fill": {
              "color": "#EBF0F8"
             },
             "line": {
              "color": "white"
             }
            },
            "header": {
             "fill": {
              "color": "#C8D4E3"
             },
             "line": {
              "color": "white"
             }
            },
            "type": "table"
           }
          ]
         },
         "layout": {
          "annotationdefaults": {
           "arrowcolor": "#2a3f5f",
           "arrowhead": 0,
           "arrowwidth": 1
          },
          "autotypenumbers": "strict",
          "coloraxis": {
           "colorbar": {
            "outlinewidth": 0,
            "ticks": ""
           }
          },
          "colorscale": {
           "diverging": [
            [
             0,
             "#8e0152"
            ],
            [
             0.1,
             "#c51b7d"
            ],
            [
             0.2,
             "#de77ae"
            ],
            [
             0.3,
             "#f1b6da"
            ],
            [
             0.4,
             "#fde0ef"
            ],
            [
             0.5,
             "#f7f7f7"
            ],
            [
             0.6,
             "#e6f5d0"
            ],
            [
             0.7,
             "#b8e186"
            ],
            [
             0.8,
             "#7fbc41"
            ],
            [
             0.9,
             "#4d9221"
            ],
            [
             1,
             "#276419"
            ]
           ],
           "sequential": [
            [
             0,
             "#0d0887"
            ],
            [
             0.1111111111111111,
             "#46039f"
            ],
            [
             0.2222222222222222,
             "#7201a8"
            ],
            [
             0.3333333333333333,
             "#9c179e"
            ],
            [
             0.4444444444444444,
             "#bd3786"
            ],
            [
             0.5555555555555556,
             "#d8576b"
            ],
            [
             0.6666666666666666,
             "#ed7953"
            ],
            [
             0.7777777777777778,
             "#fb9f3a"
            ],
            [
             0.8888888888888888,
             "#fdca26"
            ],
            [
             1,
             "#f0f921"
            ]
           ],
           "sequentialminus": [
            [
             0,
             "#0d0887"
            ],
            [
             0.1111111111111111,
             "#46039f"
            ],
            [
             0.2222222222222222,
             "#7201a8"
            ],
            [
             0.3333333333333333,
             "#9c179e"
            ],
            [
             0.4444444444444444,
             "#bd3786"
            ],
            [
             0.5555555555555556,
             "#d8576b"
            ],
            [
             0.6666666666666666,
             "#ed7953"
            ],
            [
             0.7777777777777778,
             "#fb9f3a"
            ],
            [
             0.8888888888888888,
             "#fdca26"
            ],
            [
             1,
             "#f0f921"
            ]
           ]
          },
          "colorway": [
           "#636efa",
           "#EF553B",
           "#00cc96",
           "#ab63fa",
           "#FFA15A",
           "#19d3f3",
           "#FF6692",
           "#B6E880",
           "#FF97FF",
           "#FECB52"
          ],
          "font": {
           "color": "#2a3f5f"
          },
          "geo": {
           "bgcolor": "white",
           "lakecolor": "white",
           "landcolor": "#E5ECF6",
           "showlakes": true,
           "showland": true,
           "subunitcolor": "white"
          },
          "hoverlabel": {
           "align": "left"
          },
          "hovermode": "closest",
          "mapbox": {
           "style": "light"
          },
          "paper_bgcolor": "white",
          "plot_bgcolor": "#E5ECF6",
          "polar": {
           "angularaxis": {
            "gridcolor": "white",
            "linecolor": "white",
            "ticks": ""
           },
           "bgcolor": "#E5ECF6",
           "radialaxis": {
            "gridcolor": "white",
            "linecolor": "white",
            "ticks": ""
           }
          },
          "scene": {
           "xaxis": {
            "backgroundcolor": "#E5ECF6",
            "gridcolor": "white",
            "gridwidth": 2,
            "linecolor": "white",
            "showbackground": true,
            "ticks": "",
            "zerolinecolor": "white"
           },
           "yaxis": {
            "backgroundcolor": "#E5ECF6",
            "gridcolor": "white",
            "gridwidth": 2,
            "linecolor": "white",
            "showbackground": true,
            "ticks": "",
            "zerolinecolor": "white"
           },
           "zaxis": {
            "backgroundcolor": "#E5ECF6",
            "gridcolor": "white",
            "gridwidth": 2,
            "linecolor": "white",
            "showbackground": true,
            "ticks": "",
            "zerolinecolor": "white"
           }
          },
          "shapedefaults": {
           "line": {
            "color": "#2a3f5f"
           }
          },
          "ternary": {
           "aaxis": {
            "gridcolor": "white",
            "linecolor": "white",
            "ticks": ""
           },
           "baxis": {
            "gridcolor": "white",
            "linecolor": "white",
            "ticks": ""
           },
           "bgcolor": "#E5ECF6",
           "caxis": {
            "gridcolor": "white",
            "linecolor": "white",
            "ticks": ""
           }
          },
          "title": {
           "x": 0.05
          },
          "xaxis": {
           "automargin": true,
           "gridcolor": "white",
           "linecolor": "white",
           "ticks": "",
           "title": {
            "standoff": 15
           },
           "zerolinecolor": "white",
           "zerolinewidth": 2
          },
          "yaxis": {
           "automargin": true,
           "gridcolor": "white",
           "linecolor": "white",
           "ticks": "",
           "title": {
            "standoff": 15
           },
           "zerolinecolor": "white",
           "zerolinewidth": 2
          }
         }
        },
        "title": {
         "text": "Interactive 3D Tetrahedron"
        },
        "width": 400
       }
      }
     },
     "metadata": {},
     "output_type": "display_data"
    }
   ],
   "source": [
    "import networkx as nx\n",
    "import plotly.graph_objects as go\n",
    "import numpy as np\n",
    "import ipywidgets as widgets\n",
    "from IPython.display import display, clear_output\n",
    "\n",
    "# Create a tetrahedron graph\n",
    "G = nx.tetrahedral_graph()\n",
    "\n",
    "# Define node positions in 3D space\n",
    "pos = {\n",
    "    0: [0, 0, 0],\n",
    "    1: [1, 0, 0],\n",
    "    2: [0.5, 0.866, 0],\n",
    "    3: [0.5, 0.289, 0.866]\n",
    "}\n",
    "\n",
    "# Extract node coordinates for plotting\n",
    "node_x = [pos[node][0] for node in G.nodes()]\n",
    "node_y = [pos[node][1] for node in G.nodes()]\n",
    "node_z = [pos[node][2] for node in G.nodes()]\n",
    "\n",
    "# Create edges coordinates for plotting\n",
    "edge_x = []\n",
    "edge_y = []\n",
    "edge_z = []\n",
    "\n",
    "for edge in G.edges():\n",
    "    x0, y0, z0 = pos[edge[0]]\n",
    "    x1, y1, z1 = pos[edge[1]]\n",
    "    edge_x.extend([x0, x1, None])\n",
    "    edge_y.extend([y0, y1, None])\n",
    "    edge_z.extend([z0, z1, None])\n",
    "\n",
    "# Create the 3D visualization\n",
    "fig = go.Figure()\n",
    "\n",
    "# Add edges (lines)\n",
    "fig.add_trace(go.Scatter3d(\n",
    "    x=edge_x, y=edge_y, z=edge_z,\n",
    "    mode='lines',\n",
    "    line=dict(color='blue', width=2),\n",
    "    name='Edges'\n",
    "))\n",
    "\n",
    "# Add nodes (spheres)\n",
    "fig.add_trace(go.Scatter3d(\n",
    "    x=node_x, y=node_y, z=node_z,\n",
    "    mode='markers+text',\n",
    "    marker=dict(\n",
    "        size=12,\n",
    "        color='red',\n",
    "    ),\n",
    "    text=[str(i) for i in G.nodes()],\n",
    "    name='Nodes'\n",
    "))\n",
    "\n",
    "# Update layout\n",
    "fig.update_layout(\n",
    "    title='Interactive 3D Tetrahedron',\n",
    "    showlegend=True,\n",
    "    scene=dict(\n",
    "        xaxis_title='X',\n",
    "        yaxis_title='Y',\n",
    "        zaxis_title='Z',\n",
    "        aspectmode='cube'\n",
    "    ),\n",
    "    width=400,\n",
    "    height=400,\n",
    "    margin=dict(t=50, b=0, l=0, r=0)\n",
    ")\n",
    "\n",
    "fig.show()"
   ]
  },
  {
   "cell_type": "markdown",
   "id": "66bdd90e",
   "metadata": {},
   "source": [
    "## Quantum State Representation\n",
    "\n",
    "Now we'll create a quantum state corresponding to the tetrahedron structure where each edge hosts a spin-1/2 particle.\n",
    "We'll use QuTiP to create this state as a tensor product of 6 spin-1/2 states (one for each edge)."
   ]
  },
  {
   "cell_type": "code",
   "execution_count": null,
   "id": "52d443f7",
   "metadata": {},
   "outputs": [],
   "source": [
    "import qutip as qt\n",
    "import numpy as np\n",
    "\n",
    "# Create spin operators for each edge\n",
    "# For spin-1/2, we use qubit operators\n",
    "sx = qt.sigmax()  # Pauli X\n",
    "sy = qt.sigmay()  # Pauli Y\n",
    "sz = qt.sigmaz()  # Pauli Z\n",
    "\n",
    "# Create basis states for spin up and down\n",
    "up = qt.basis([2], 0)    # |0⟩ or |↑⟩\n",
    "down = qt.basis([2], 1)   # |1⟩ or |↓⟩\n",
    "\n",
    "# Create initial state with all spins up\n",
    "# Tensor product of 6 up states (one for each edge)\n",
    "psi = qt.tensor([up] * 6)\n",
    "\n",
    "# Dictionary to map edges to their indices in the tensor product\n",
    "edge_to_index = {tuple(sorted(edge)): idx for idx, edge in enumerate(G.edges())}\n",
    "\n",
    "# Create individual spin operators for each edge\n",
    "# These will be useful for creating observables and manipulating the state\n",
    "spin_ops = {}\n",
    "for edge, idx in edge_to_index.items():\n",
    "    # Create identity operators for all positions\n",
    "    op_list = [qt.qeye(2)] * 6\n",
    "    # Replace the identity at idx with Pauli operators\n",
    "    spin_ops[edge] = {\n",
    "        'X': qt.tensor(op_list[:idx] + [sx] + op_list[idx+1:]),\n",
    "        'Y': qt.tensor(op_list[:idx] + [sy] + op_list[idx+1:]),\n",
    "        'Z': qt.tensor(op_list[:idx] + [sz] + op_list[idx+1:])\n",
    "    }\n",
    "\n",
    "# Example: measure Z component of spin on each edge\n",
    "z_expectations = {edge: qt.expect(ops['Z'], psi) \n",
    "                for edge, ops in spin_ops.items()}\n",
    "\n",
    "print('Initial state (all spins up):)')\n",
    "print(psi)\n",
    "print('\\nZ-component expectations for each edge:')\n",
    "for edge, val in z_expectations.items():\n",
    "    print(f'Edge {edge}: {val:.3f}')"
   ]
  },
  {
   "cell_type": "markdown",
   "id": "43f0421d",
   "metadata": {},
   "source": [
    "The code above creates:\n",
    "1. A quantum state as a tensor product of 6 spin-1/2 states (one per edge)\n",
    "2. Spin operators (X, Y, Z Pauli matrices) for each edge\n",
    "3. A mapping between graph edges and their position in the tensor product\n",
    "4. Initial measurements of the Z-component of spin on each edge\n",
    "\n",
    "You can modify this state by applying operators to specific edges using the `spin_ops` dictionary."
   ]
  },
  {
   "cell_type": "markdown",
   "id": "4ab7eef3",
   "metadata": {},
   "source": [
    "## Three-Body Interactions on Faces\n",
    "\n",
    "We'll now implement three-body interactions between the edges that form each face of the tetrahedron.\n",
    "For each face, we create an interaction term between its three bounding edges."
   ]
  },
  {
   "cell_type": "code",
   "execution_count": 5,
   "id": "b6d8619b",
   "metadata": {},
   "outputs": [
    {
     "name": "stdout",
     "output_type": "stream",
     "text": [
      "Edges for each face:\n",
      "Face 0: [(0, 1), (1, 2), (0, 2)]\n",
      "Face 1: [(0, 1), (1, 3), (0, 3)]\n",
      "Face 2: [(0, 2), (2, 3), (0, 3)]\n",
      "Face 3: [(1, 2), (2, 3), (1, 3)]\n"
     ]
    }
   ],
   "source": [
    "# Define the faces of the tetrahedron\n",
    "faces = [\n",
    "    (0, 1, 2),  # vertices of face 1\n",
    "    (0, 1, 3),  # vertices of face 2\n",
    "    (0, 2, 3),  # vertices of face 3\n",
    "    (1, 2, 3)   # vertices of face 4\n",
    "]\n",
    "\n",
    "# Function to get edges of a face\n",
    "def get_face_edges(face_vertices):\n",
    "    edges = []\n",
    "    for i in range(3):\n",
    "        edge = tuple(sorted([face_vertices[i], face_vertices[(i+1)%3]]))\n",
    "        edges.append(edge)\n",
    "    return edges\n",
    "\n",
    "# Map faces to their edges\n",
    "face_edges = {i: get_face_edges(face) for i, face in enumerate(faces)}\n",
    "\n",
    "print('Edges for each face:')\n",
    "for face_idx, edges in face_edges.items():\n",
    "    print(f'Face {face_idx}: {edges}')"
   ]
  },
  {
   "cell_type": "code",
   "execution_count": 18,
   "id": "49efb647",
   "metadata": {},
   "outputs": [
    {
     "name": "stdout",
     "output_type": "stream",
     "text": [
      "Total Hamiltonian created with different coupling strengths:\n",
      "Face 0: J = 1.0\n",
      "Face 1: J = 0.5\n",
      "Face 2: J = -0.7\n",
      "Face 3: J = 0.3\n",
      "Shape: (64, 64)\n"
     ]
    }
   ],
   "source": [
    "# Create three-body interaction Hamiltonian\n",
    "def create_face_hamiltonian(face_idx, J=1.0):\n",
    "    \"\"\"Create interaction Hamiltonian for a single face\"\"\"\n",
    "    edges = face_edges[face_idx]\n",
    "    \n",
    "    # Different coupling strengths for different faces\n",
    "    J_values = {0: 1.0, 1: 0.5, 2: -0.7, 3: 0.3}\n",
    "    J = J_values[face_idx]\n",
    "    \n",
    "    # Create interaction terms using Pauli operators\n",
    "    H_face = 0\n",
    "    for op in ['X', 'Y', 'Z']:  # Sum over all Pauli operator combinations\n",
    "        term = J * spin_ops[edges[0]][op] * spin_ops[edges[1]][op] * spin_ops[edges[2]][op]\n",
    "        H_face += term\n",
    "    \n",
    "    return H_face\n",
    "\n",
    "# Create total Hamiltonian as sum of face Hamiltonians\n",
    "H_total = sum(create_face_hamiltonian(face_idx) for face_idx in face_edges)\n",
    "\n",
    "print('Total Hamiltonian created with different coupling strengths:')\n",
    "print('Face 0: J = 1.0')\n",
    "print('Face 1: J = 0.5')\n",
    "print('Face 2: J = -0.7')\n",
    "print('Face 3: J = 0.3')\n",
    "print(f'Shape: {H_total.shape}')"
   ]
  },
  {
   "cell_type": "code",
   "execution_count": 19,
   "id": "90eea68c",
   "metadata": {},
   "outputs": [
    {
     "name": "stdout",
     "output_type": "stream",
     "text": [
      "First few expectation values for each edge:\n",
      "Edge (0, 1): [1.0, 0.9498989797533385, 0.8102309094596531, 0.6104786814299205, 0.3922630223027456]\n",
      "Edge (0, 2): [1.0, 0.9405872030375467, 0.7784904941228163, 0.5576480875797946, 0.33758462257919625]\n",
      "Edge (0, 3): [1.0, 0.9702088673372905, 0.8856379339841978, 0.7598491180673136, 0.612777906943434]\n",
      "Edge (1, 2): [1.0, 0.9561238135807398, 0.8316267107193986, 0.6466113049147625, 0.4305140131686564]\n",
      "Edge (1, 3): [1.0, 0.9862376232951225, 0.9462956379734349, 0.8840625277501099, 0.8055465880048482]\n",
      "Edge (2, 3): [1.0, 0.9765675638926107, 0.9090793757205593, 0.8055647775289648, 0.6781378997370784]\n"
     ]
    },
    {
     "data": {
      "application/vnd.plotly.v1+json": {
       "config": {
        "plotlyServerURL": "https://plot.ly"
       },
       "data": [
        {
         "hovertemplate": "Time: %{x:.2f}<br>⟨σz⟩: %{y:.3f}<br>Edge: {edge}<extra></extra>",
         "line": {
          "color": "blue",
          "width": 2
         },
         "mode": "lines",
         "name": "Edge (0, 1)",
         "type": "scatter",
         "x": {
          "bdata": "AAAAAAAAAAAxb2dIzNu5PzFvZ0jM28k/ZZNNNtlk0z8xb2dIzNvZP3+lQK1fKeA/ZZNNNtlk4z9LgVq/UqDmPzFvZ0jM2+k/F1100UUX7T9/pUCtXynwP3Icx3Ecx/E/ZZNNNtlk8z9YCtT6lQL1P0uBWr9SoPY/Pvjggw8++D8xb2dIzNv5PyTm7QyJefs/F1100UUX/T8K1PqVArX+P3+lQK1fKQBA+OCDDz74AEByHMdxHMcBQOtXCtT6lQJAZZNNNtlkA0DezpCYtzMEQFgK1PqVAgVA0UUXXXTRBUBLgVq/UqAGQMS8nSExbwdAPvjggw8+CEC3MyTm7QwJQDFvZ0jM2wlAq6qqqqqqCkAk5u0MiXkLQJ4hMW9nSAxAF1100UUXDUCRmLczJOYNQArU+pUCtQ5AhA8++OCDD0B/pUCtXykQQDtDYt7OkBBA+OCDDz74EEC1fqVArV8RQHIcx3EcxxFALrrooosuEkDrVwrU+pUSQKj1KwVq/RJAZZNNNtlkE0AiMW9nSMwTQN7OkJi3MxRAm2yyySabFEBYCtT6lQIVQBWo9SsFahVA0UUXXXTRFUCO4ziO4zgWQEuBWr9SoBZACB988MEHF0DEvJ0hMW8XQIFav1Kg1hdAPvjggw8+GED7lQK1fqUYQLczJObtDBlAdNFFF110GUAxb2dIzNsZQO4MiXk7QxpAq6qqqqqqGkBnSMzbGRIbQCTm7QyJeRtA4YMPPvjgG0CeITFvZ0gcQFq/UqDWrxxAF1100UUXHUDU+pUCtX4dQJGYtzMk5h1ATTbZZJNNHkAK1PqVArUeQMdxHMdxHB9AhA8++OCDH0BArV8pUOsfQH+lQK1fKSBAXXTRRRddIEA7Q2LezpAgQBoS83aGxCBA+OCDDz74IEDXrxSo9SshQLV+pUCtXyFAk0022WSTIUByHMdxHMchQFDrVwrU+iFALrrooosuIkANiXk7Q2IiQOtXCtT6lSJAyiabbLLJIkCo9SsFav0iQIbEvJ0hMSNAZZNNNtlkI0BDYt7OkJgjQCIxb2dIzCNAAAAAAAAAJEA=",
          "dtype": "f8"
         },
         "y": [
          1,
          0.9498989797533385,
          0.8102309094596531,
          0.6104786814299205,
          0.3922630223027456,
          0.1998845190682938,
          0.07028772629973873,
          0.024747127638714728,
          0.06417560355696508,
          0.1691202358724515,
          0.30443092188063403,
          0.4275130438288933,
          0.4982546501384819,
          0.4883384940663012,
          0.3877984181741312,
          0.20732189316522912,
          -0.024214261468796516,
          -0.2663852391570105,
          -0.4764867510651124,
          -0.6192766875884403,
          -0.6749366769252194,
          -0.6434183612609252,
          -0.544183825403941,
          -0.4114200031864108,
          -0.2858573065839689,
          -0.20510758923235428,
          -0.1947769417110609,
          -0.2624230241068505,
          -0.39576210851154475,
          -0.5655380718350411,
          -0.7323824434436117,
          -0.8560583843201496,
          -0.9049346531674772,
          -0.8634735638456276,
          -0.7359790389707237,
          -0.5457244268228536,
          -0.32964918548436245,
          -0.1298514721560355,
          0.016148648351770805,
          0.08411854413097815,
          0.06874761377809946,
          -0.015104025765763505,
          -0.13585479955405638,
          -0.25256981989488436,
          -0.32455148900803715,
          -0.3209371081787437,
          -0.22807646266216006,
          -0.05297600929404383,
          0.17802017505609427,
          0.4250107264692016,
          0.6434838597496778,
          0.7943679811797909,
          0.852887874659658,
          0.8141804577780081,
          0.6943740805374919,
          0.5268759268280729,
          0.354710486301902,
          0.22066399922150692,
          0.15749212869250964,
          0.18043726282590483,
          0.2837693939956888,
          0.44213888094901804,
          0.6164248399257406,
          0.7627355514776405,
          0.842482333087945,
          0.831223586885845,
          0.7242446196633175,
          0.5376097213872687,
          0.3044578841872947,
          0.06741298164797271,
          -0.13113427684655263,
          -0.25862163995294246,
          -0.2995889509806729,
          -0.25895014958313506,
          -0.16054810648783746,
          -0.04133325513277039,
          0.05745460833294082,
          0.1000496409065096,
          0.06459340501976328,
          -0.05171163105867932,
          -0.2319183644407032,
          -0.44326713268825585,
          -0.644802793463464,
          -0.7969034409109638,
          -0.8704848125969213,
          -0.8537431494794616,
          -0.7548605292034944,
          -0.6000438649427009,
          -0.4273549080615254,
          -0.27776871323566404,
          -0.18554719796409672,
          -0.17017536815676537,
          -0.23174536753268993,
          -0.3508791099316773,
          -0.493218005051198,
          -0.61745087967995,
          -0.6850212637082266,
          -0.6692612395378783,
          -0.5618205714868412,
          -0.3748842275181037
         ]
        },
        {
         "hovertemplate": "Time: %{x:.2f}<br>⟨σz⟩: %{y:.3f}<br>Edge: {edge}<extra></extra>",
         "line": {
          "color": "red",
          "width": 2
         },
         "mode": "lines",
         "name": "Edge (0, 2)",
         "type": "scatter",
         "x": {
          "bdata": "AAAAAAAAAAAxb2dIzNu5PzFvZ0jM28k/ZZNNNtlk0z8xb2dIzNvZP3+lQK1fKeA/ZZNNNtlk4z9LgVq/UqDmPzFvZ0jM2+k/F1100UUX7T9/pUCtXynwP3Icx3Ecx/E/ZZNNNtlk8z9YCtT6lQL1P0uBWr9SoPY/Pvjggw8++D8xb2dIzNv5PyTm7QyJefs/F1100UUX/T8K1PqVArX+P3+lQK1fKQBA+OCDDz74AEByHMdxHMcBQOtXCtT6lQJAZZNNNtlkA0DezpCYtzMEQFgK1PqVAgVA0UUXXXTRBUBLgVq/UqAGQMS8nSExbwdAPvjggw8+CEC3MyTm7QwJQDFvZ0jM2wlAq6qqqqqqCkAk5u0MiXkLQJ4hMW9nSAxAF1100UUXDUCRmLczJOYNQArU+pUCtQ5AhA8++OCDD0B/pUCtXykQQDtDYt7OkBBA+OCDDz74EEC1fqVArV8RQHIcx3EcxxFALrrooosuEkDrVwrU+pUSQKj1KwVq/RJAZZNNNtlkE0AiMW9nSMwTQN7OkJi3MxRAm2yyySabFEBYCtT6lQIVQBWo9SsFahVA0UUXXXTRFUCO4ziO4zgWQEuBWr9SoBZACB988MEHF0DEvJ0hMW8XQIFav1Kg1hdAPvjggw8+GED7lQK1fqUYQLczJObtDBlAdNFFF110GUAxb2dIzNsZQO4MiXk7QxpAq6qqqqqqGkBnSMzbGRIbQCTm7QyJeRtA4YMPPvjgG0CeITFvZ0gcQFq/UqDWrxxAF1100UUXHUDU+pUCtX4dQJGYtzMk5h1ATTbZZJNNHkAK1PqVArUeQMdxHMdxHB9AhA8++OCDH0BArV8pUOsfQH+lQK1fKSBAXXTRRRddIEA7Q2LezpAgQBoS83aGxCBA+OCDDz74IEDXrxSo9SshQLV+pUCtXyFAk0022WSTIUByHMdxHMchQFDrVwrU+iFALrrooosuIkANiXk7Q2IiQOtXCtT6lSJAyiabbLLJIkCo9SsFav0iQIbEvJ0hMSNAZZNNNtlkI0BDYt7OkJgjQCIxb2dIzCNAAAAAAAAAJEA=",
          "dtype": "f8"
         },
         "y": [
          1,
          0.9405872030375467,
          0.7784904941228163,
          0.5576480875797946,
          0.33758462257919625,
          0.1768802158932321,
          0.11692458493289065,
          0.17048027848602787,
          0.3182359632018227,
          0.514300639472455,
          0.6990957789619157,
          0.8160397494982091,
          0.8273637596507988,
          0.7246441985377139,
          0.5311143673576778,
          0.2951168996798045,
          0.0765330989770995,
          -0.07001276892560179,
          -0.11047516611243857,
          -0.04094834085383947,
          0.11121057897793046,
          0.2950169629137614,
          0.45012289966258634,
          0.5237302313115534,
          0.4854262301862736,
          0.3357951731138026,
          0.10639151578642819,
          -0.14892811579452161,
          -0.36890546629656085,
          -0.5018678315185273,
          -0.5200652299388477,
          -0.4273643166719279,
          -0.2581541987483881,
          -0.06776458278748942,
          0.08292997805154413,
          0.14443482967328217,
          0.09237192209766218,
          -0.06579265147672725,
          -0.29289542905797317,
          -0.5324962363294306,
          -0.7246431993453382,
          -0.8225900023694966,
          -0.805792332198448,
          -0.6855621370906876,
          -0.5018062216819257,
          -0.31176813973874995,
          -0.17392729126000891,
          -0.1315592467232838,
          -0.2005570980761072,
          -0.3649206755291006,
          -0.5811842148514218,
          -0.7905399880593644,
          -0.9352846201324472,
          -0.9749865815957615,
          -0.8978589670910023,
          -0.7241533592360756,
          -0.5006145278025205,
          -0.287538586566666,
          -0.1420242556046959,
          -0.10210086430961199,
          -0.17614035268884706,
          -0.34051869609002794,
          -0.54617270473669,
          -0.7322320795131565,
          -0.8429307456693519,
          -0.8430799112170787,
          -0.7278041367982381,
          -0.5238290144270428,
          -0.28197204898659567,
          -0.06294085126690525,
          0.07959641128145437,
          0.113937222505365,
          0.03911081907621057,
          -0.11496527865732271,
          -0.29596197878929614,
          -0.44388180012798895,
          -0.5079354672748145,
          -0.4608393281321092,
          -0.30652167369564426,
          -0.07909033771894719,
          0.1666554371622522,
          0.3705256343214483,
          0.48377175738785355,
          0.48275185654983416,
          0.3756007110843968,
          0.2000351950777595,
          0.012896497265634313,
          -0.1256656613494814,
          -0.16895485915186764,
          -0.09676870594780702,
          0.07891906856479751,
          0.3172307332374481,
          0.559691222856506,
          0.7464283660604305,
          0.8327541221855933,
          0.8015089154601795,
          0.6677363867589607,
          0.47439261518699194,
          0.2802939595924557,
          0.14367671549174216
         ]
        },
        {
         "hovertemplate": "Time: %{x:.2f}<br>⟨σz⟩: %{y:.3f}<br>Edge: {edge}<extra></extra>",
         "line": {
          "color": "green",
          "width": 2
         },
         "mode": "lines",
         "name": "Edge (0, 3)",
         "type": "scatter",
         "x": {
          "bdata": "AAAAAAAAAAAxb2dIzNu5PzFvZ0jM28k/ZZNNNtlk0z8xb2dIzNvZP3+lQK1fKeA/ZZNNNtlk4z9LgVq/UqDmPzFvZ0jM2+k/F1100UUX7T9/pUCtXynwP3Icx3Ecx/E/ZZNNNtlk8z9YCtT6lQL1P0uBWr9SoPY/Pvjggw8++D8xb2dIzNv5PyTm7QyJefs/F1100UUX/T8K1PqVArX+P3+lQK1fKQBA+OCDDz74AEByHMdxHMcBQOtXCtT6lQJAZZNNNtlkA0DezpCYtzMEQFgK1PqVAgVA0UUXXXTRBUBLgVq/UqAGQMS8nSExbwdAPvjggw8+CEC3MyTm7QwJQDFvZ0jM2wlAq6qqqqqqCkAk5u0MiXkLQJ4hMW9nSAxAF1100UUXDUCRmLczJOYNQArU+pUCtQ5AhA8++OCDD0B/pUCtXykQQDtDYt7OkBBA+OCDDz74EEC1fqVArV8RQHIcx3EcxxFALrrooosuEkDrVwrU+pUSQKj1KwVq/RJAZZNNNtlkE0AiMW9nSMwTQN7OkJi3MxRAm2yyySabFEBYCtT6lQIVQBWo9SsFahVA0UUXXXTRFUCO4ziO4zgWQEuBWr9SoBZACB988MEHF0DEvJ0hMW8XQIFav1Kg1hdAPvjggw8+GED7lQK1fqUYQLczJObtDBlAdNFFF110GUAxb2dIzNsZQO4MiXk7QxpAq6qqqqqqGkBnSMzbGRIbQCTm7QyJeRtA4YMPPvjgG0CeITFvZ0gcQFq/UqDWrxxAF1100UUXHUDU+pUCtX4dQJGYtzMk5h1ATTbZZJNNHkAK1PqVArUeQMdxHMdxHB9AhA8++OCDH0BArV8pUOsfQH+lQK1fKSBAXXTRRRddIEA7Q2LezpAgQBoS83aGxCBA+OCDDz74IEDXrxSo9SshQLV+pUCtXyFAk0022WSTIUByHMdxHMchQFDrVwrU+iFALrrooosuIkANiXk7Q2IiQOtXCtT6lSJAyiabbLLJIkCo9SsFav0iQIbEvJ0hMSNAZZNNNtlkI0BDYt7OkJgjQCIxb2dIzCNAAAAAAAAAJEA=",
          "dtype": "f8"
         },
         "y": [
          1,
          0.9702088673372905,
          0.8856379339841978,
          0.7598491180673136,
          0.612777906943434,
          0.4672314244800255,
          0.3448936035313769,
          0.26254788404371343,
          0.22918859609848388,
          0.2445334361179745,
          0.2991992719375052,
          0.3765065197606722,
          0.4555875418183837,
          0.5152414353011059,
          0.5378439524955116,
          0.5126129373335384,
          0.4376437566047792,
          0.32034906468496527,
          0.1762221469161293,
          0.02614236512833845,
          -0.10729868840638496,
          -0.203795989253433,
          -0.2489430387088459,
          -0.23681241383228752,
          -0.17104482837422585,
          -0.06425153445031224,
          0.06416550348384395,
          0.19138827467058683,
          0.29515295891541254,
          0.3576118020917568,
          0.3683995155042142,
          0.3263613973201059,
          0.23963951934210534,
          0.12410357784772907,
          0.00041004488489958246,
          -0.10978264682313268,
          -0.18776619487536347,
          -0.2211922878610675,
          -0.20633459115310052,
          -0.14879153112279075,
          -0.06250954664584696,
          0.032703407777832184,
          0.11472997408974533,
          0.16312720673654243,
          0.16283122166716812,
          0.10692285665658015,
          -0.002046655811472198,
          -0.1523968902108554,
          -0.3252862296935771,
          -0.4979365181223554,
          -0.6475617975393814,
          -0.7552911490204834,
          -0.8093983355403487,
          -0.80726047677692,
          -0.7557011005021151,
          -0.6696616054335769,
          -0.5694381954220358,
          -0.47698110816929873,
          -0.4119171457692875,
          -0.38800641487937176,
          -0.4106667343382173,
          -0.476005720922741,
          -0.5715339889087421,
          -0.6784333791074475,
          -0.7749703825298239,
          -0.8404502243430895,
          -0.8589985582418264,
          -0.8224991271679134,
          -0.7321583465786143,
          -0.5984162175288547,
          -0.4392147287763837,
          -0.27693266268500877,
          -0.13452130033040394,
          -0.031544464755106874,
          0.01919958337578293,
          0.013851509770006848,
          -0.041912998791158854,
          -0.133966035302274,
          -0.24230544407833335,
          -0.34465592817605345,
          -0.42045564931133667,
          -0.4545180791407251,
          -0.43971083898218793,
          -0.37818593759801294,
          -0.2809290433732769,
          -0.16572341257636983,
          -0.053886219341251554,
          0.03363764353015139,
          0.08012070935520817,
          0.07615380145886459,
          0.02144413093436783,
          -0.07501630814703387,
          -0.19643695368485853,
          -0.32111692742325665,
          -0.42621658351572367,
          -0.491745986573597,
          -0.5040608411681968,
          -0.4582447221233199,
          -0.35895463900492425,
          -0.2195798717150445
         ]
        },
        {
         "hovertemplate": "Time: %{x:.2f}<br>⟨σz⟩: %{y:.3f}<br>Edge: {edge}<extra></extra>",
         "line": {
          "color": "purple",
          "width": 2
         },
         "mode": "lines",
         "name": "Edge (1, 2)",
         "type": "scatter",
         "x": {
          "bdata": "AAAAAAAAAAAxb2dIzNu5PzFvZ0jM28k/ZZNNNtlk0z8xb2dIzNvZP3+lQK1fKeA/ZZNNNtlk4z9LgVq/UqDmPzFvZ0jM2+k/F1100UUX7T9/pUCtXynwP3Icx3Ecx/E/ZZNNNtlk8z9YCtT6lQL1P0uBWr9SoPY/Pvjggw8++D8xb2dIzNv5PyTm7QyJefs/F1100UUX/T8K1PqVArX+P3+lQK1fKQBA+OCDDz74AEByHMdxHMcBQOtXCtT6lQJAZZNNNtlkA0DezpCYtzMEQFgK1PqVAgVA0UUXXXTRBUBLgVq/UqAGQMS8nSExbwdAPvjggw8+CEC3MyTm7QwJQDFvZ0jM2wlAq6qqqqqqCkAk5u0MiXkLQJ4hMW9nSAxAF1100UUXDUCRmLczJOYNQArU+pUCtQ5AhA8++OCDD0B/pUCtXykQQDtDYt7OkBBA+OCDDz74EEC1fqVArV8RQHIcx3EcxxFALrrooosuEkDrVwrU+pUSQKj1KwVq/RJAZZNNNtlkE0AiMW9nSMwTQN7OkJi3MxRAm2yyySabFEBYCtT6lQIVQBWo9SsFahVA0UUXXXTRFUCO4ziO4zgWQEuBWr9SoBZACB988MEHF0DEvJ0hMW8XQIFav1Kg1hdAPvjggw8+GED7lQK1fqUYQLczJObtDBlAdNFFF110GUAxb2dIzNsZQO4MiXk7QxpAq6qqqqqqGkBnSMzbGRIbQCTm7QyJeRtA4YMPPvjgG0CeITFvZ0gcQFq/UqDWrxxAF1100UUXHUDU+pUCtX4dQJGYtzMk5h1ATTbZZJNNHkAK1PqVArUeQMdxHMdxHB9AhA8++OCDH0BArV8pUOsfQH+lQK1fKSBAXXTRRRddIEA7Q2LezpAgQBoS83aGxCBA+OCDDz74IEDXrxSo9SshQLV+pUCtXyFAk0022WSTIUByHMdxHMchQFDrVwrU+iFALrrooosuIkANiXk7Q2IiQOtXCtT6lSJAyiabbLLJIkCo9SsFav0iQIbEvJ0hMSNAZZNNNtlkI0BDYt7OkJgjQCIxb2dIzCNAAAAAAAAAJEA=",
          "dtype": "f8"
         },
         "y": [
          1,
          0.9561238135807398,
          0.8316267107193986,
          0.6466113049147625,
          0.4305140131686564,
          0.2167913738007125,
          0.036907755829270916,
          -0.08527003199864114,
          -0.13764209506993655,
          -0.12184532963369475,
          -0.052667429628941054,
          0.04497951968610993,
          0.14095920455913233,
          0.20577264311180704,
          0.21629193069977778,
          0.1603000832190973,
          0.03899282967018983,
          -0.1330260897830348,
          -0.3302595977241657,
          -0.5208827323716003,
          -0.6725192569259584,
          -0.7581654754883014,
          -0.7611697071292355,
          -0.6783482666981739,
          -0.520662508818422,
          -0.31133014717728236,
          -0.08171619238969391,
          0.13424194083456636,
          0.30605134608878737,
          0.4120196370148569,
          0.4429678417395669,
          0.4036218804447657,
          0.3114378380501778,
          0.19308500103724124,
          0.07924134051839064,
          -0.001324470513431819,
          -0.02729075278534296,
          0.011090789055388593,
          0.11004362548303902,
          0.2528573037433122,
          0.4129075530381807,
          0.5585532226930278,
          0.6590062806173996,
          0.6900870236131508,
          0.6388035076782498,
          0.5059073929436306,
          0.3059493956495972,
          0.06482576443975692,
          -0.18474770580447183,
          -0.40898813300796905,
          -0.5789848358060917,
          -0.6757255719296079,
          -0.6932991458597819,
          -0.6396862937709351,
          -0.5350044407169117,
          -0.4075394715647749,
          -0.28830250086251147,
          -0.2051256465728318,
          -0.17738834111000573,
          -0.21235322873579046,
          -0.30378713324386686,
          -0.43312267318080033,
          -0.5729441352744193,
          -0.6921474661084865,
          -0.761827205284704,
          -0.760787169574756,
          -0.6796659565665358,
          -0.5229027912021033,
          -0.3081792952668858,
          -0.06343612273308902,
          0.17799357554871872,
          0.38323674852425227,
          0.5256540713416871,
          0.5894647538965346,
          0.5723912547203636,
          0.48583183210963776,
          0.352544729787526,
          0.20227838791877523,
          0.06615535096843432,
          -0.029142828444397917,
          -0.06632016586085969,
          -0.040624486238327595,
          0.03936431957454508,
          0.15344301087200968,
          0.27369314329563815,
          0.36983721408324877,
          0.41506299268270164,
          0.3912276484562093,
          0.29247711341977123,
          0.12660550924293484,
          -0.08609944550972116,
          -0.3163188199893464,
          -0.5308404632187893,
          -0.698422966263817,
          -0.795317603412735,
          -0.8094302448046384,
          -0.7423637867178581,
          -0.6089717595365756,
          -0.43451027664221464,
          -0.24992013729585583
         ]
        },
        {
         "hovertemplate": "Time: %{x:.2f}<br>⟨σz⟩: %{y:.3f}<br>Edge: {edge}<extra></extra>",
         "line": {
          "color": "orange",
          "width": 2
         },
         "mode": "lines",
         "name": "Edge (1, 3)",
         "type": "scatter",
         "x": {
          "bdata": "AAAAAAAAAAAxb2dIzNu5PzFvZ0jM28k/ZZNNNtlk0z8xb2dIzNvZP3+lQK1fKeA/ZZNNNtlk4z9LgVq/UqDmPzFvZ0jM2+k/F1100UUX7T9/pUCtXynwP3Icx3Ecx/E/ZZNNNtlk8z9YCtT6lQL1P0uBWr9SoPY/Pvjggw8++D8xb2dIzNv5PyTm7QyJefs/F1100UUX/T8K1PqVArX+P3+lQK1fKQBA+OCDDz74AEByHMdxHMcBQOtXCtT6lQJAZZNNNtlkA0DezpCYtzMEQFgK1PqVAgVA0UUXXXTRBUBLgVq/UqAGQMS8nSExbwdAPvjggw8+CEC3MyTm7QwJQDFvZ0jM2wlAq6qqqqqqCkAk5u0MiXkLQJ4hMW9nSAxAF1100UUXDUCRmLczJOYNQArU+pUCtQ5AhA8++OCDD0B/pUCtXykQQDtDYt7OkBBA+OCDDz74EEC1fqVArV8RQHIcx3EcxxFALrrooosuEkDrVwrU+pUSQKj1KwVq/RJAZZNNNtlkE0AiMW9nSMwTQN7OkJi3MxRAm2yyySabFEBYCtT6lQIVQBWo9SsFahVA0UUXXXTRFUCO4ziO4zgWQEuBWr9SoBZACB988MEHF0DEvJ0hMW8XQIFav1Kg1hdAPvjggw8+GED7lQK1fqUYQLczJObtDBlAdNFFF110GUAxb2dIzNsZQO4MiXk7QxpAq6qqqqqqGkBnSMzbGRIbQCTm7QyJeRtA4YMPPvjgG0CeITFvZ0gcQFq/UqDWrxxAF1100UUXHUDU+pUCtX4dQJGYtzMk5h1ATTbZZJNNHkAK1PqVArUeQMdxHMdxHB9AhA8++OCDH0BArV8pUOsfQH+lQK1fKSBAXXTRRRddIEA7Q2LezpAgQBoS83aGxCBA+OCDDz74IEDXrxSo9SshQLV+pUCtXyFAk0022WSTIUByHMdxHMchQFDrVwrU+iFALrrooosuIkANiXk7Q2IiQOtXCtT6lSJAyiabbLLJIkCo9SsFav0iQIbEvJ0hMSNAZZNNNtlkI0BDYt7OkJgjQCIxb2dIzCNAAAAAAAAAJEA=",
          "dtype": "f8"
         },
         "y": [
          1,
          0.9862376232951225,
          0.9462956379734349,
          0.8840625277501099,
          0.8055465880048482,
          0.718225176331121,
          0.6302417373320348,
          0.5495413923587251,
          0.4830401192287711,
          0.43591576159853596,
          0.4110923489715383,
          0.40896653001537886,
          0.42739703472870594,
          0.4619508391944039,
          0.5063775976444475,
          0.5532602420383119,
          0.5947771182789786,
          0.6235023359222625,
          0.633167005423294,
          0.6193094067802045,
          0.5797495991044224,
          0.5148396762550893,
          0.4274602924612767,
          0.3227574286640629,
          0.20763991120882247,
          0.09008363375549337,
          -0.021688817901636508,
          -0.12006724153800252,
          -0.19885833784836424,
          -0.2539456739730712,
          -0.2837291826546687,
          -0.2892897457479235,
          -0.2742626262530615,
          -0.24443166729845994,
          -0.20708735547470303,
          -0.17022926580366426,
          -0.14169671053864,
          -0.12832975725448312,
          -0.13524169961661356,
          -0.16529765266640709,
          -0.21882270539141113,
          -0.2935850664901608,
          -0.3850381819972208,
          -0.4867938771433538,
          -0.5912758234426502,
          -0.6904838098667176,
          -0.7767959020178677,
          -0.8437310226844341,
          -0.8865991640892986,
          -0.9029794340848072,
          -0.8929712449857744,
          -0.8591984152439017,
          -0.80655518688456,
          -0.7417164341025844,
          -0.6724544665894702,
          -0.6068302935270682,
          -0.552342211177195,
          -0.5151203461774486,
          -0.49926300428714865,
          -0.5063814770069041,
          -0.5354187737208355,
          -0.5827565548469922,
          -0.6426058475937257,
          -0.7076348392158389,
          -0.7697630133328789,
          -0.8210331902892342,
          -0.8544616784158566,
          -0.8647747713886033,
          -0.8489536076717208,
          -0.8065343206983872,
          -0.7396376920690648,
          -0.6527324918584163,
          -0.5521642515489796,
          -0.4455000156128054,
          -0.3407617969355507,
          -0.2456212564215531,
          -0.16663416977640394,
          -0.10858840132464258,
          -0.07402695495687782,
          -0.06299090926219725,
          -0.07301390518862934,
          -0.09936419163108423,
          -0.13552969809773063,
          -0.1738826435684933,
          -0.20648246668268716,
          -0.22591748968480477,
          -0.22610771054991885,
          -0.20297529217523666,
          -0.15490842821783957,
          -0.08296078879992937,
          0.009235847582575969,
          0.11584731011440262,
          0.22944894011995998,
          0.3418157544921661,
          0.44479484884096443,
          0.5311648008141923,
          0.5953853065807925,
          0.6341602819107988,
          0.6467531033807132,
          0.6350289537207197
         ]
        },
        {
         "hovertemplate": "Time: %{x:.2f}<br>⟨σz⟩: %{y:.3f}<br>Edge: {edge}<extra></extra>",
         "line": {
          "color": "cyan",
          "width": 2
         },
         "mode": "lines",
         "name": "Edge (2, 3)",
         "type": "scatter",
         "x": {
          "bdata": "AAAAAAAAAAAxb2dIzNu5PzFvZ0jM28k/ZZNNNtlk0z8xb2dIzNvZP3+lQK1fKeA/ZZNNNtlk4z9LgVq/UqDmPzFvZ0jM2+k/F1100UUX7T9/pUCtXynwP3Icx3Ecx/E/ZZNNNtlk8z9YCtT6lQL1P0uBWr9SoPY/Pvjggw8++D8xb2dIzNv5PyTm7QyJefs/F1100UUX/T8K1PqVArX+P3+lQK1fKQBA+OCDDz74AEByHMdxHMcBQOtXCtT6lQJAZZNNNtlkA0DezpCYtzMEQFgK1PqVAgVA0UUXXXTRBUBLgVq/UqAGQMS8nSExbwdAPvjggw8+CEC3MyTm7QwJQDFvZ0jM2wlAq6qqqqqqCkAk5u0MiXkLQJ4hMW9nSAxAF1100UUXDUCRmLczJOYNQArU+pUCtQ5AhA8++OCDD0B/pUCtXykQQDtDYt7OkBBA+OCDDz74EEC1fqVArV8RQHIcx3EcxxFALrrooosuEkDrVwrU+pUSQKj1KwVq/RJAZZNNNtlkE0AiMW9nSMwTQN7OkJi3MxRAm2yyySabFEBYCtT6lQIVQBWo9SsFahVA0UUXXXTRFUCO4ziO4zgWQEuBWr9SoBZACB988MEHF0DEvJ0hMW8XQIFav1Kg1hdAPvjggw8+GED7lQK1fqUYQLczJObtDBlAdNFFF110GUAxb2dIzNsZQO4MiXk7QxpAq6qqqqqqGkBnSMzbGRIbQCTm7QyJeRtA4YMPPvjgG0CeITFvZ0gcQFq/UqDWrxxAF1100UUXHUDU+pUCtX4dQJGYtzMk5h1ATTbZZJNNHkAK1PqVArUeQMdxHMdxHB9AhA8++OCDH0BArV8pUOsfQH+lQK1fKSBAXXTRRRddIEA7Q2LezpAgQBoS83aGxCBA+OCDDz74IEDXrxSo9SshQLV+pUCtXyFAk0022WSTIUByHMdxHMchQFDrVwrU+iFALrrooosuIkANiXk7Q2IiQOtXCtT6lSJAyiabbLLJIkCo9SsFav0iQIbEvJ0hMSNAZZNNNtlkI0BDYt7OkJgjQCIxb2dIzCNAAAAAAAAAJEA=",
          "dtype": "f8"
         },
         "y": [
          1,
          0.9765675638926107,
          0.9090793757205593,
          0.8055647775289648,
          0.6781378997370784,
          0.5412913046162214,
          0.4098681560638262,
          0.29700742503248356,
          0.21235739637079895,
          0.16081025513862435,
          0.14193108039346486,
          0.1501521165225855,
          0.175691712585593,
          0.20605416222318607,
          0.22789002993234445,
          0.22894821586176345,
          0.19984697124776393,
          0.13542279203051424,
          0.03548042502162818,
          -0.09514541691050377,
          -0.24721144244232757,
          -0.40827310743722395,
          -0.5643058874420543,
          -0.7015190149444525,
          -0.808119951716002,
          -0.8758006229023448,
          -0.9007567582893051,
          -0.8841143658986466,
          -0.8317146242082216,
          -0.7532907069215796,
          -0.6611448005559886,
          -0.5684979033421179,
          -0.48772484690738116,
          -0.42870339557092096,
          -0.39749200860634193,
          -0.395513093035625,
          -0.41935463991876515,
          -0.4612256140579459,
          -0.5100180941962147,
          -0.552835667809212,
          -0.5768037711725049,
          -0.5709093919579606,
          -0.5276244079691802,
          -0.4440799228446381,
          -0.3226182861038054,
          -0.17063103667905194,
          0.0003116355950807167,
          0.17592901234297414,
          0.34111052877622516,
          0.4819330295749498,
          0.5875440468633116,
          0.651628065514149,
          0.6732471483848839,
          0.6569219445025358,
          0.6119358956384852,
          0.5509591417968522,
          0.4881852726025147,
          0.43725168420868815,
          0.40924690908514394,
          0.41109256284923196,
          0.4445362752863774,
          0.5059003067386328,
          0.5866180636803959,
          0.6744735291952201,
          0.7553649208316976,
          0.815324597968553,
          0.842512931267921,
          0.8288955292381568,
          0.7713736726438636,
          0.6722179226680921,
          0.5387541911861189,
          0.3823635985356348,
          0.21694248330359228,
          0.05705268188104805,
          -0.08398825216261274,
          -0.19580811876091278,
          -0.2722537252970229,
          -0.31207911087016915,
          -0.31896016473071653,
          -0.3008596684598845,
          -0.2688282798499934,
          -0.23541978357737736,
          -0.21292149628186074,
          -0.21164464494640023,
          -0.23848563951168544,
          -0.29595015882642517,
          -0.3817598935807289,
          -0.48909678678668156,
          -0.607449599919399,
          -0.7239618411792725,
          -0.8251056983932751,
          -0.8984689833576391,
          -0.9344224876366461,
          -0.9274423861323886,
          -0.876909397580545,
          -0.7872651762888788,
          -0.6674933726130088,
          -0.5299789499868395,
          -0.38889044741936973,
          -0.25829605824808516
         ]
        }
       ],
       "layout": {
        "height": 400,
        "hovermode": "x unified",
        "legend": {
         "x": 0.99,
         "xanchor": "right",
         "y": 0.99,
         "yanchor": "top"
        },
        "showlegend": true,
        "template": {
         "data": {
          "bar": [
           {
            "error_x": {
             "color": "#2a3f5f"
            },
            "error_y": {
             "color": "#2a3f5f"
            },
            "marker": {
             "line": {
              "color": "white",
              "width": 0.5
             },
             "pattern": {
              "fillmode": "overlay",
              "size": 10,
              "solidity": 0.2
             }
            },
            "type": "bar"
           }
          ],
          "barpolar": [
           {
            "marker": {
             "line": {
              "color": "white",
              "width": 0.5
             },
             "pattern": {
              "fillmode": "overlay",
              "size": 10,
              "solidity": 0.2
             }
            },
            "type": "barpolar"
           }
          ],
          "carpet": [
           {
            "aaxis": {
             "endlinecolor": "#2a3f5f",
             "gridcolor": "#C8D4E3",
             "linecolor": "#C8D4E3",
             "minorgridcolor": "#C8D4E3",
             "startlinecolor": "#2a3f5f"
            },
            "baxis": {
             "endlinecolor": "#2a3f5f",
             "gridcolor": "#C8D4E3",
             "linecolor": "#C8D4E3",
             "minorgridcolor": "#C8D4E3",
             "startlinecolor": "#2a3f5f"
            },
            "type": "carpet"
           }
          ],
          "choropleth": [
           {
            "colorbar": {
             "outlinewidth": 0,
             "ticks": ""
            },
            "type": "choropleth"
           }
          ],
          "contour": [
           {
            "colorbar": {
             "outlinewidth": 0,
             "ticks": ""
            },
            "colorscale": [
             [
              0,
              "#0d0887"
             ],
             [
              0.1111111111111111,
              "#46039f"
             ],
             [
              0.2222222222222222,
              "#7201a8"
             ],
             [
              0.3333333333333333,
              "#9c179e"
             ],
             [
              0.4444444444444444,
              "#bd3786"
             ],
             [
              0.5555555555555556,
              "#d8576b"
             ],
             [
              0.6666666666666666,
              "#ed7953"
             ],
             [
              0.7777777777777778,
              "#fb9f3a"
             ],
             [
              0.8888888888888888,
              "#fdca26"
             ],
             [
              1,
              "#f0f921"
             ]
            ],
            "type": "contour"
           }
          ],
          "contourcarpet": [
           {
            "colorbar": {
             "outlinewidth": 0,
             "ticks": ""
            },
            "type": "contourcarpet"
           }
          ],
          "heatmap": [
           {
            "colorbar": {
             "outlinewidth": 0,
             "ticks": ""
            },
            "colorscale": [
             [
              0,
              "#0d0887"
             ],
             [
              0.1111111111111111,
              "#46039f"
             ],
             [
              0.2222222222222222,
              "#7201a8"
             ],
             [
              0.3333333333333333,
              "#9c179e"
             ],
             [
              0.4444444444444444,
              "#bd3786"
             ],
             [
              0.5555555555555556,
              "#d8576b"
             ],
             [
              0.6666666666666666,
              "#ed7953"
             ],
             [
              0.7777777777777778,
              "#fb9f3a"
             ],
             [
              0.8888888888888888,
              "#fdca26"
             ],
             [
              1,
              "#f0f921"
             ]
            ],
            "type": "heatmap"
           }
          ],
          "histogram": [
           {
            "marker": {
             "pattern": {
              "fillmode": "overlay",
              "size": 10,
              "solidity": 0.2
             }
            },
            "type": "histogram"
           }
          ],
          "histogram2d": [
           {
            "colorbar": {
             "outlinewidth": 0,
             "ticks": ""
            },
            "colorscale": [
             [
              0,
              "#0d0887"
             ],
             [
              0.1111111111111111,
              "#46039f"
             ],
             [
              0.2222222222222222,
              "#7201a8"
             ],
             [
              0.3333333333333333,
              "#9c179e"
             ],
             [
              0.4444444444444444,
              "#bd3786"
             ],
             [
              0.5555555555555556,
              "#d8576b"
             ],
             [
              0.6666666666666666,
              "#ed7953"
             ],
             [
              0.7777777777777778,
              "#fb9f3a"
             ],
             [
              0.8888888888888888,
              "#fdca26"
             ],
             [
              1,
              "#f0f921"
             ]
            ],
            "type": "histogram2d"
           }
          ],
          "histogram2dcontour": [
           {
            "colorbar": {
             "outlinewidth": 0,
             "ticks": ""
            },
            "colorscale": [
             [
              0,
              "#0d0887"
             ],
             [
              0.1111111111111111,
              "#46039f"
             ],
             [
              0.2222222222222222,
              "#7201a8"
             ],
             [
              0.3333333333333333,
              "#9c179e"
             ],
             [
              0.4444444444444444,
              "#bd3786"
             ],
             [
              0.5555555555555556,
              "#d8576b"
             ],
             [
              0.6666666666666666,
              "#ed7953"
             ],
             [
              0.7777777777777778,
              "#fb9f3a"
             ],
             [
              0.8888888888888888,
              "#fdca26"
             ],
             [
              1,
              "#f0f921"
             ]
            ],
            "type": "histogram2dcontour"
           }
          ],
          "mesh3d": [
           {
            "colorbar": {
             "outlinewidth": 0,
             "ticks": ""
            },
            "type": "mesh3d"
           }
          ],
          "parcoords": [
           {
            "line": {
             "colorbar": {
              "outlinewidth": 0,
              "ticks": ""
             }
            },
            "type": "parcoords"
           }
          ],
          "pie": [
           {
            "automargin": true,
            "type": "pie"
           }
          ],
          "scatter": [
           {
            "fillpattern": {
             "fillmode": "overlay",
             "size": 10,
             "solidity": 0.2
            },
            "type": "scatter"
           }
          ],
          "scatter3d": [
           {
            "line": {
             "colorbar": {
              "outlinewidth": 0,
              "ticks": ""
             }
            },
            "marker": {
             "colorbar": {
              "outlinewidth": 0,
              "ticks": ""
             }
            },
            "type": "scatter3d"
           }
          ],
          "scattercarpet": [
           {
            "marker": {
             "colorbar": {
              "outlinewidth": 0,
              "ticks": ""
             }
            },
            "type": "scattercarpet"
           }
          ],
          "scattergeo": [
           {
            "marker": {
             "colorbar": {
              "outlinewidth": 0,
              "ticks": ""
             }
            },
            "type": "scattergeo"
           }
          ],
          "scattergl": [
           {
            "marker": {
             "colorbar": {
              "outlinewidth": 0,
              "ticks": ""
             }
            },
            "type": "scattergl"
           }
          ],
          "scattermap": [
           {
            "marker": {
             "colorbar": {
              "outlinewidth": 0,
              "ticks": ""
             }
            },
            "type": "scattermap"
           }
          ],
          "scattermapbox": [
           {
            "marker": {
             "colorbar": {
              "outlinewidth": 0,
              "ticks": ""
             }
            },
            "type": "scattermapbox"
           }
          ],
          "scatterpolar": [
           {
            "marker": {
             "colorbar": {
              "outlinewidth": 0,
              "ticks": ""
             }
            },
            "type": "scatterpolar"
           }
          ],
          "scatterpolargl": [
           {
            "marker": {
             "colorbar": {
              "outlinewidth": 0,
              "ticks": ""
             }
            },
            "type": "scatterpolargl"
           }
          ],
          "scatterternary": [
           {
            "marker": {
             "colorbar": {
              "outlinewidth": 0,
              "ticks": ""
             }
            },
            "type": "scatterternary"
           }
          ],
          "surface": [
           {
            "colorbar": {
             "outlinewidth": 0,
             "ticks": ""
            },
            "colorscale": [
             [
              0,
              "#0d0887"
             ],
             [
              0.1111111111111111,
              "#46039f"
             ],
             [
              0.2222222222222222,
              "#7201a8"
             ],
             [
              0.3333333333333333,
              "#9c179e"
             ],
             [
              0.4444444444444444,
              "#bd3786"
             ],
             [
              0.5555555555555556,
              "#d8576b"
             ],
             [
              0.6666666666666666,
              "#ed7953"
             ],
             [
              0.7777777777777778,
              "#fb9f3a"
             ],
             [
              0.8888888888888888,
              "#fdca26"
             ],
             [
              1,
              "#f0f921"
             ]
            ],
            "type": "surface"
           }
          ],
          "table": [
           {
            "cells": {
             "fill": {
              "color": "#EBF0F8"
             },
             "line": {
              "color": "white"
             }
            },
            "header": {
             "fill": {
              "color": "#C8D4E3"
             },
             "line": {
              "color": "white"
             }
            },
            "type": "table"
           }
          ]
         },
         "layout": {
          "annotationdefaults": {
           "arrowcolor": "#2a3f5f",
           "arrowhead": 0,
           "arrowwidth": 1
          },
          "autotypenumbers": "strict",
          "coloraxis": {
           "colorbar": {
            "outlinewidth": 0,
            "ticks": ""
           }
          },
          "colorscale": {
           "diverging": [
            [
             0,
             "#8e0152"
            ],
            [
             0.1,
             "#c51b7d"
            ],
            [
             0.2,
             "#de77ae"
            ],
            [
             0.3,
             "#f1b6da"
            ],
            [
             0.4,
             "#fde0ef"
            ],
            [
             0.5,
             "#f7f7f7"
            ],
            [
             0.6,
             "#e6f5d0"
            ],
            [
             0.7,
             "#b8e186"
            ],
            [
             0.8,
             "#7fbc41"
            ],
            [
             0.9,
             "#4d9221"
            ],
            [
             1,
             "#276419"
            ]
           ],
           "sequential": [
            [
             0,
             "#0d0887"
            ],
            [
             0.1111111111111111,
             "#46039f"
            ],
            [
             0.2222222222222222,
             "#7201a8"
            ],
            [
             0.3333333333333333,
             "#9c179e"
            ],
            [
             0.4444444444444444,
             "#bd3786"
            ],
            [
             0.5555555555555556,
             "#d8576b"
            ],
            [
             0.6666666666666666,
             "#ed7953"
            ],
            [
             0.7777777777777778,
             "#fb9f3a"
            ],
            [
             0.8888888888888888,
             "#fdca26"
            ],
            [
             1,
             "#f0f921"
            ]
           ],
           "sequentialminus": [
            [
             0,
             "#0d0887"
            ],
            [
             0.1111111111111111,
             "#46039f"
            ],
            [
             0.2222222222222222,
             "#7201a8"
            ],
            [
             0.3333333333333333,
             "#9c179e"
            ],
            [
             0.4444444444444444,
             "#bd3786"
            ],
            [
             0.5555555555555556,
             "#d8576b"
            ],
            [
             0.6666666666666666,
             "#ed7953"
            ],
            [
             0.7777777777777778,
             "#fb9f3a"
            ],
            [
             0.8888888888888888,
             "#fdca26"
            ],
            [
             1,
             "#f0f921"
            ]
           ]
          },
          "colorway": [
           "#636efa",
           "#EF553B",
           "#00cc96",
           "#ab63fa",
           "#FFA15A",
           "#19d3f3",
           "#FF6692",
           "#B6E880",
           "#FF97FF",
           "#FECB52"
          ],
          "font": {
           "color": "#2a3f5f"
          },
          "geo": {
           "bgcolor": "white",
           "lakecolor": "white",
           "landcolor": "white",
           "showlakes": true,
           "showland": true,
           "subunitcolor": "#C8D4E3"
          },
          "hoverlabel": {
           "align": "left"
          },
          "hovermode": "closest",
          "mapbox": {
           "style": "light"
          },
          "paper_bgcolor": "white",
          "plot_bgcolor": "white",
          "polar": {
           "angularaxis": {
            "gridcolor": "#EBF0F8",
            "linecolor": "#EBF0F8",
            "ticks": ""
           },
           "bgcolor": "white",
           "radialaxis": {
            "gridcolor": "#EBF0F8",
            "linecolor": "#EBF0F8",
            "ticks": ""
           }
          },
          "scene": {
           "xaxis": {
            "backgroundcolor": "white",
            "gridcolor": "#DFE8F3",
            "gridwidth": 2,
            "linecolor": "#EBF0F8",
            "showbackground": true,
            "ticks": "",
            "zerolinecolor": "#EBF0F8"
           },
           "yaxis": {
            "backgroundcolor": "white",
            "gridcolor": "#DFE8F3",
            "gridwidth": 2,
            "linecolor": "#EBF0F8",
            "showbackground": true,
            "ticks": "",
            "zerolinecolor": "#EBF0F8"
           },
           "zaxis": {
            "backgroundcolor": "white",
            "gridcolor": "#DFE8F3",
            "gridwidth": 2,
            "linecolor": "#EBF0F8",
            "showbackground": true,
            "ticks": "",
            "zerolinecolor": "#EBF0F8"
           }
          },
          "shapedefaults": {
           "line": {
            "color": "#2a3f5f"
           }
          },
          "ternary": {
           "aaxis": {
            "gridcolor": "#DFE8F3",
            "linecolor": "#A2B1C6",
            "ticks": ""
           },
           "baxis": {
            "gridcolor": "#DFE8F3",
            "linecolor": "#A2B1C6",
            "ticks": ""
           },
           "bgcolor": "white",
           "caxis": {
            "gridcolor": "#DFE8F3",
            "linecolor": "#A2B1C6",
            "ticks": ""
           }
          },
          "title": {
           "x": 0.05
          },
          "xaxis": {
           "automargin": true,
           "gridcolor": "#EBF0F8",
           "linecolor": "#EBF0F8",
           "ticks": "",
           "title": {
            "standoff": 15
           },
           "zerolinecolor": "#EBF0F8",
           "zerolinewidth": 2
          },
          "yaxis": {
           "automargin": true,
           "gridcolor": "#EBF0F8",
           "linecolor": "#EBF0F8",
           "ticks": "",
           "title": {
            "standoff": 15
           },
           "zerolinecolor": "#EBF0F8",
           "zerolinewidth": 2
          }
         }
        },
        "title": {
         "text": "Evolution of Z-component of spin on each edge"
        },
        "width": 600,
        "xaxis": {
         "title": {
          "text": "Time"
         }
        },
        "yaxis": {
         "title": {
          "text": "⟨σz⟩"
         }
        }
       }
      }
     },
     "metadata": {},
     "output_type": "display_data"
    }
   ],
   "source": [
    "# Set up time evolution\n",
    "times = np.linspace(0, 10, 100)  # Evolve from t=0 to t=10\n",
    "\n",
    "# Evolve the state using QuTiP's sesolve\n",
    "result = qt.sesolve(H_total, psi, times)\n",
    "\n",
    "# Calculate expectation values of Z operators for each edge over time\n",
    "z_expectations_t = {edge: [qt.expect(ops['Z'], state) \n",
    "                         for state in result.states]\n",
    "                   for edge, ops in spin_ops.items()}\n",
    "\n",
    "# Print the first few values for each edge to verify they're different\n",
    "print(\"First few expectation values for each edge:\")\n",
    "for edge, expecs in z_expectations_t.items():\n",
    "    print(f\"Edge {edge}: {expecs[:5]}\")\n",
    "\n",
    "# Create interactive Plotly figure\n",
    "fig = go.Figure()\n",
    "\n",
    "# Add a trace for each edge's evolution\n",
    "colors = ['blue', 'red', 'green', 'purple', 'orange', 'cyan']\n",
    "for (edge, expecs), color in zip(z_expectations_t.items(), colors):\n",
    "    fig.add_trace(go.Scatter(\n",
    "        x=times,\n",
    "        y=expecs,\n",
    "        mode='lines',\n",
    "        name=f'Edge {edge}',\n",
    "        line=dict(color=color, width=2),\n",
    "        hovertemplate='Time: %{x:.2f}<br>⟨σz⟩: %{y:.3f}<br>Edge: {edge}<extra></extra>'\n",
    "    ))\n",
    "\n",
    "# Update layout for better visualization\n",
    "fig.update_layout(\n",
    "    title='Evolution of Z-component of spin on each edge',\n",
    "    xaxis_title='Time',\n",
    "    yaxis_title='⟨σz⟩',\n",
    "    hovermode='x unified',\n",
    "    showlegend=True,\n",
    "    width=600,\n",
    "    height=400,\n",
    "    template='plotly_white',\n",
    "    legend=dict(\n",
    "        yanchor='top',\n",
    "        y=0.99,\n",
    "        xanchor='right',\n",
    "        x=0.99\n",
    "    )\n",
    ")\n",
    "\n",
    "fig.show()"
   ]
  },
  {
   "cell_type": "markdown",
   "id": "db2d1e14",
   "metadata": {},
   "source": [
    "This implementation:\n",
    "1. Defines the faces of the tetrahedron in terms of their vertex indices\n",
    "2. Maps each face to its three bounding edges\n",
    "3. Creates a three-body interaction Hamiltonian for each face using Pauli operators\n",
    "4. Combines the face Hamiltonians into a total Hamiltonian\n",
    "5. Evolves the initial state (all spins up) using the Schrödinger equation\n",
    "6. Visualizes the evolution of the Z-component of spin on each edge\n",
    "\n",
    "The interaction term for each face couples all three edges bounding that face,\n",
    "creating a genuinely three-body interaction rather than just pairwise couplings."
   ]
  },
  {
   "cell_type": "markdown",
   "id": "d92437b5",
   "metadata": {},
   "source": [
    "## Interactive Controls for Coupling Strengths\n",
    "\n",
    "Use the sliders below to adjust the coupling strengths for each face of the tetrahedron.\n",
    "The visualization will update automatically to show how different coupling strengths affect the evolution."
   ]
  },
  {
   "cell_type": "code",
   "execution_count": null,
   "id": "98657ef0",
   "metadata": {},
   "outputs": [
    {
     "data": {
      "application/vnd.jupyter.widget-view+json": {
       "model_id": "fd2f9344114045d29c6c2a2f6c6d7a93",
       "version_major": 2,
       "version_minor": 0
      },
      "text/plain": [
       "FloatSlider(value=0.0, continuous_update=False, description='Face 0:', layout=Layout(width='400px'), max=2.0, …"
      ]
     },
     "metadata": {},
     "output_type": "display_data"
    },
    {
     "data": {
      "application/vnd.jupyter.widget-view+json": {
       "model_id": "9f830ebf7d794688a29d8c418ceda77e",
       "version_major": 2,
       "version_minor": 0
      },
      "text/plain": [
       "FloatSlider(value=0.0, continuous_update=False, description='Face 1:', layout=Layout(width='400px'), max=2.0, …"
      ]
     },
     "metadata": {},
     "output_type": "display_data"
    },
    {
     "data": {
      "application/vnd.jupyter.widget-view+json": {
       "model_id": "fc22a8571cc64b05bf85a3e4ba30b1ba",
       "version_major": 2,
       "version_minor": 0
      },
      "text/plain": [
       "FloatSlider(value=0.0, continuous_update=False, description='Face 2:', layout=Layout(width='400px'), max=2.0, …"
      ]
     },
     "metadata": {},
     "output_type": "display_data"
    },
    {
     "data": {
      "application/vnd.jupyter.widget-view+json": {
       "model_id": "20b1b60eca8f4766b95f24e45289ec81",
       "version_major": 2,
       "version_minor": 0
      },
      "text/plain": [
       "FloatSlider(value=0.0, continuous_update=False, description='Face 3:', layout=Layout(width='400px'), max=2.0, …"
      ]
     },
     "metadata": {},
     "output_type": "display_data"
    },
    {
     "data": {
      "application/vnd.jupyter.widget-view+json": {
       "model_id": "91829ab471ac484bbbebfc416a1ee7c0",
       "version_major": 2,
       "version_minor": 0
      },
      "text/plain": [
       "Button(button_style='info', description='Reset Couplings', layout=Layout(width='200px'), style=ButtonStyle())"
      ]
     },
     "metadata": {},
     "output_type": "display_data"
    },
    {
     "data": {
      "application/vnd.jupyter.widget-view+json": {
       "model_id": "5906fbb7dd4740d38b9f6f1131f5a213",
       "version_major": 2,
       "version_minor": 0
      },
      "text/plain": [
       "HTML(value='<br>')"
      ]
     },
     "metadata": {},
     "output_type": "display_data"
    },
    {
     "data": {
      "application/vnd.plotly.v1+json": {
       "config": {
        "plotlyServerURL": "https://plot.ly"
       },
       "data": [
        {
         "hovertemplate": "Time: %{x:.2f}<br>⟨σz⟩: %{y:.3f}<br>Edge: {edge}<extra></extra>",
         "line": {
          "color": "blue",
          "width": 2
         },
         "mode": "lines",
         "name": "Edge (0, 1)",
         "type": "scatter",
         "x": {
          "bdata": "AAAAAAAAAAAxb2dIzNu5PzFvZ0jM28k/ZZNNNtlk0z8xb2dIzNvZP3+lQK1fKeA/ZZNNNtlk4z9LgVq/UqDmPzFvZ0jM2+k/F1100UUX7T9/pUCtXynwP3Icx3Ecx/E/ZZNNNtlk8z9YCtT6lQL1P0uBWr9SoPY/Pvjggw8++D8xb2dIzNv5PyTm7QyJefs/F1100UUX/T8K1PqVArX+P3+lQK1fKQBA+OCDDz74AEByHMdxHMcBQOtXCtT6lQJAZZNNNtlkA0DezpCYtzMEQFgK1PqVAgVA0UUXXXTRBUBLgVq/UqAGQMS8nSExbwdAPvjggw8+CEC3MyTm7QwJQDFvZ0jM2wlAq6qqqqqqCkAk5u0MiXkLQJ4hMW9nSAxAF1100UUXDUCRmLczJOYNQArU+pUCtQ5AhA8++OCDD0B/pUCtXykQQDtDYt7OkBBA+OCDDz74EEC1fqVArV8RQHIcx3EcxxFALrrooosuEkDrVwrU+pUSQKj1KwVq/RJAZZNNNtlkE0AiMW9nSMwTQN7OkJi3MxRAm2yyySabFEBYCtT6lQIVQBWo9SsFahVA0UUXXXTRFUCO4ziO4zgWQEuBWr9SoBZACB988MEHF0DEvJ0hMW8XQIFav1Kg1hdAPvjggw8+GED7lQK1fqUYQLczJObtDBlAdNFFF110GUAxb2dIzNsZQO4MiXk7QxpAq6qqqqqqGkBnSMzbGRIbQCTm7QyJeRtA4YMPPvjgG0CeITFvZ0gcQFq/UqDWrxxAF1100UUXHUDU+pUCtX4dQJGYtzMk5h1ATTbZZJNNHkAK1PqVArUeQMdxHMdxHB9AhA8++OCDH0BArV8pUOsfQH+lQK1fKSBAXXTRRRddIEA7Q2LezpAgQBoS83aGxCBA+OCDDz74IEDXrxSo9SshQLV+pUCtXyFAk0022WSTIUByHMdxHMchQFDrVwrU+iFALrrooosuIkANiXk7Q2IiQOtXCtT6lSJAyiabbLLJIkCo9SsFav0iQIbEvJ0hMSNAZZNNNtlkI0BDYt7OkJgjQCIxb2dIzCNAAAAAAAAAJEA=",
          "dtype": "f8"
         },
         "y": [
          1,
          1,
          1,
          1,
          1,
          1,
          1,
          1,
          1,
          1,
          1,
          1,
          1,
          1,
          1,
          1,
          1,
          1,
          1,
          1,
          1,
          1,
          1,
          1,
          1,
          1,
          1,
          1,
          1,
          1,
          1,
          1,
          1,
          1,
          1,
          1,
          1,
          1,
          1,
          1,
          1,
          1,
          1,
          1,
          1,
          1,
          1,
          1,
          1,
          1,
          1,
          1,
          1,
          1,
          1,
          1,
          1,
          1,
          1,
          1,
          1,
          1,
          1,
          1,
          1,
          1,
          1,
          1,
          1,
          1,
          1,
          1,
          1,
          1,
          1,
          1,
          1,
          1,
          1,
          1,
          1,
          1,
          1,
          1,
          1,
          1,
          1,
          1,
          1,
          1,
          1,
          1,
          1,
          1,
          1,
          1,
          1,
          1,
          1,
          1
         ]
        },
        {
         "hovertemplate": "Time: %{x:.2f}<br>⟨σz⟩: %{y:.3f}<br>Edge: {edge}<extra></extra>",
         "line": {
          "color": "red",
          "width": 2
         },
         "mode": "lines",
         "name": "Edge (0, 2)",
         "type": "scatter",
         "x": {
          "bdata": "AAAAAAAAAAAxb2dIzNu5PzFvZ0jM28k/ZZNNNtlk0z8xb2dIzNvZP3+lQK1fKeA/ZZNNNtlk4z9LgVq/UqDmPzFvZ0jM2+k/F1100UUX7T9/pUCtXynwP3Icx3Ecx/E/ZZNNNtlk8z9YCtT6lQL1P0uBWr9SoPY/Pvjggw8++D8xb2dIzNv5PyTm7QyJefs/F1100UUX/T8K1PqVArX+P3+lQK1fKQBA+OCDDz74AEByHMdxHMcBQOtXCtT6lQJAZZNNNtlkA0DezpCYtzMEQFgK1PqVAgVA0UUXXXTRBUBLgVq/UqAGQMS8nSExbwdAPvjggw8+CEC3MyTm7QwJQDFvZ0jM2wlAq6qqqqqqCkAk5u0MiXkLQJ4hMW9nSAxAF1100UUXDUCRmLczJOYNQArU+pUCtQ5AhA8++OCDD0B/pUCtXykQQDtDYt7OkBBA+OCDDz74EEC1fqVArV8RQHIcx3EcxxFALrrooosuEkDrVwrU+pUSQKj1KwVq/RJAZZNNNtlkE0AiMW9nSMwTQN7OkJi3MxRAm2yyySabFEBYCtT6lQIVQBWo9SsFahVA0UUXXXTRFUCO4ziO4zgWQEuBWr9SoBZACB988MEHF0DEvJ0hMW8XQIFav1Kg1hdAPvjggw8+GED7lQK1fqUYQLczJObtDBlAdNFFF110GUAxb2dIzNsZQO4MiXk7QxpAq6qqqqqqGkBnSMzbGRIbQCTm7QyJeRtA4YMPPvjgG0CeITFvZ0gcQFq/UqDWrxxAF1100UUXHUDU+pUCtX4dQJGYtzMk5h1ATTbZZJNNHkAK1PqVArUeQMdxHMdxHB9AhA8++OCDH0BArV8pUOsfQH+lQK1fKSBAXXTRRRddIEA7Q2LezpAgQBoS83aGxCBA+OCDDz74IEDXrxSo9SshQLV+pUCtXyFAk0022WSTIUByHMdxHMchQFDrVwrU+iFALrrooosuIkANiXk7Q2IiQOtXCtT6lSJAyiabbLLJIkCo9SsFav0iQIbEvJ0hMSNAZZNNNtlkI0BDYt7OkJgjQCIxb2dIzCNAAAAAAAAAJEA=",
          "dtype": "f8"
         },
         "y": [
          1,
          1,
          1,
          1,
          1,
          1,
          1,
          1,
          1,
          1,
          1,
          1,
          1,
          1,
          1,
          1,
          1,
          1,
          1,
          1,
          1,
          1,
          1,
          1,
          1,
          1,
          1,
          1,
          1,
          1,
          1,
          1,
          1,
          1,
          1,
          1,
          1,
          1,
          1,
          1,
          1,
          1,
          1,
          1,
          1,
          1,
          1,
          1,
          1,
          1,
          1,
          1,
          1,
          1,
          1,
          1,
          1,
          1,
          1,
          1,
          1,
          1,
          1,
          1,
          1,
          1,
          1,
          1,
          1,
          1,
          1,
          1,
          1,
          1,
          1,
          1,
          1,
          1,
          1,
          1,
          1,
          1,
          1,
          1,
          1,
          1,
          1,
          1,
          1,
          1,
          1,
          1,
          1,
          1,
          1,
          1,
          1,
          1,
          1,
          1
         ]
        },
        {
         "hovertemplate": "Time: %{x:.2f}<br>⟨σz⟩: %{y:.3f}<br>Edge: {edge}<extra></extra>",
         "line": {
          "color": "green",
          "width": 2
         },
         "mode": "lines",
         "name": "Edge (0, 3)",
         "type": "scatter",
         "x": {
          "bdata": "AAAAAAAAAAAxb2dIzNu5PzFvZ0jM28k/ZZNNNtlk0z8xb2dIzNvZP3+lQK1fKeA/ZZNNNtlk4z9LgVq/UqDmPzFvZ0jM2+k/F1100UUX7T9/pUCtXynwP3Icx3Ecx/E/ZZNNNtlk8z9YCtT6lQL1P0uBWr9SoPY/Pvjggw8++D8xb2dIzNv5PyTm7QyJefs/F1100UUX/T8K1PqVArX+P3+lQK1fKQBA+OCDDz74AEByHMdxHMcBQOtXCtT6lQJAZZNNNtlkA0DezpCYtzMEQFgK1PqVAgVA0UUXXXTRBUBLgVq/UqAGQMS8nSExbwdAPvjggw8+CEC3MyTm7QwJQDFvZ0jM2wlAq6qqqqqqCkAk5u0MiXkLQJ4hMW9nSAxAF1100UUXDUCRmLczJOYNQArU+pUCtQ5AhA8++OCDD0B/pUCtXykQQDtDYt7OkBBA+OCDDz74EEC1fqVArV8RQHIcx3EcxxFALrrooosuEkDrVwrU+pUSQKj1KwVq/RJAZZNNNtlkE0AiMW9nSMwTQN7OkJi3MxRAm2yyySabFEBYCtT6lQIVQBWo9SsFahVA0UUXXXTRFUCO4ziO4zgWQEuBWr9SoBZACB988MEHF0DEvJ0hMW8XQIFav1Kg1hdAPvjggw8+GED7lQK1fqUYQLczJObtDBlAdNFFF110GUAxb2dIzNsZQO4MiXk7QxpAq6qqqqqqGkBnSMzbGRIbQCTm7QyJeRtA4YMPPvjgG0CeITFvZ0gcQFq/UqDWrxxAF1100UUXHUDU+pUCtX4dQJGYtzMk5h1ATTbZZJNNHkAK1PqVArUeQMdxHMdxHB9AhA8++OCDH0BArV8pUOsfQH+lQK1fKSBAXXTRRRddIEA7Q2LezpAgQBoS83aGxCBA+OCDDz74IEDXrxSo9SshQLV+pUCtXyFAk0022WSTIUByHMdxHMchQFDrVwrU+iFALrrooosuIkANiXk7Q2IiQOtXCtT6lSJAyiabbLLJIkCo9SsFav0iQIbEvJ0hMSNAZZNNNtlkI0BDYt7OkJgjQCIxb2dIzCNAAAAAAAAAJEA=",
          "dtype": "f8"
         },
         "y": [
          1,
          1,
          1,
          1,
          1,
          1,
          1,
          1,
          1,
          1,
          1,
          1,
          1,
          1,
          1,
          1,
          1,
          1,
          1,
          1,
          1,
          1,
          1,
          1,
          1,
          1,
          1,
          1,
          1,
          1,
          1,
          1,
          1,
          1,
          1,
          1,
          1,
          1,
          1,
          1,
          1,
          1,
          1,
          1,
          1,
          1,
          1,
          1,
          1,
          1,
          1,
          1,
          1,
          1,
          1,
          1,
          1,
          1,
          1,
          1,
          1,
          1,
          1,
          1,
          1,
          1,
          1,
          1,
          1,
          1,
          1,
          1,
          1,
          1,
          1,
          1,
          1,
          1,
          1,
          1,
          1,
          1,
          1,
          1,
          1,
          1,
          1,
          1,
          1,
          1,
          1,
          1,
          1,
          1,
          1,
          1,
          1,
          1,
          1,
          1
         ]
        },
        {
         "hovertemplate": "Time: %{x:.2f}<br>⟨σz⟩: %{y:.3f}<br>Edge: {edge}<extra></extra>",
         "line": {
          "color": "purple",
          "width": 2
         },
         "mode": "lines",
         "name": "Edge (1, 2)",
         "type": "scatter",
         "x": {
          "bdata": "AAAAAAAAAAAxb2dIzNu5PzFvZ0jM28k/ZZNNNtlk0z8xb2dIzNvZP3+lQK1fKeA/ZZNNNtlk4z9LgVq/UqDmPzFvZ0jM2+k/F1100UUX7T9/pUCtXynwP3Icx3Ecx/E/ZZNNNtlk8z9YCtT6lQL1P0uBWr9SoPY/Pvjggw8++D8xb2dIzNv5PyTm7QyJefs/F1100UUX/T8K1PqVArX+P3+lQK1fKQBA+OCDDz74AEByHMdxHMcBQOtXCtT6lQJAZZNNNtlkA0DezpCYtzMEQFgK1PqVAgVA0UUXXXTRBUBLgVq/UqAGQMS8nSExbwdAPvjggw8+CEC3MyTm7QwJQDFvZ0jM2wlAq6qqqqqqCkAk5u0MiXkLQJ4hMW9nSAxAF1100UUXDUCRmLczJOYNQArU+pUCtQ5AhA8++OCDD0B/pUCtXykQQDtDYt7OkBBA+OCDDz74EEC1fqVArV8RQHIcx3EcxxFALrrooosuEkDrVwrU+pUSQKj1KwVq/RJAZZNNNtlkE0AiMW9nSMwTQN7OkJi3MxRAm2yyySabFEBYCtT6lQIVQBWo9SsFahVA0UUXXXTRFUCO4ziO4zgWQEuBWr9SoBZACB988MEHF0DEvJ0hMW8XQIFav1Kg1hdAPvjggw8+GED7lQK1fqUYQLczJObtDBlAdNFFF110GUAxb2dIzNsZQO4MiXk7QxpAq6qqqqqqGkBnSMzbGRIbQCTm7QyJeRtA4YMPPvjgG0CeITFvZ0gcQFq/UqDWrxxAF1100UUXHUDU+pUCtX4dQJGYtzMk5h1ATTbZZJNNHkAK1PqVArUeQMdxHMdxHB9AhA8++OCDH0BArV8pUOsfQH+lQK1fKSBAXXTRRRddIEA7Q2LezpAgQBoS83aGxCBA+OCDDz74IEDXrxSo9SshQLV+pUCtXyFAk0022WSTIUByHMdxHMchQFDrVwrU+iFALrrooosuIkANiXk7Q2IiQOtXCtT6lSJAyiabbLLJIkCo9SsFav0iQIbEvJ0hMSNAZZNNNtlkI0BDYt7OkJgjQCIxb2dIzCNAAAAAAAAAJEA=",
          "dtype": "f8"
         },
         "y": [
          1,
          1,
          1,
          1,
          1,
          1,
          1,
          1,
          1,
          1,
          1,
          1,
          1,
          1,
          1,
          1,
          1,
          1,
          1,
          1,
          1,
          1,
          1,
          1,
          1,
          1,
          1,
          1,
          1,
          1,
          1,
          1,
          1,
          1,
          1,
          1,
          1,
          1,
          1,
          1,
          1,
          1,
          1,
          1,
          1,
          1,
          1,
          1,
          1,
          1,
          1,
          1,
          1,
          1,
          1,
          1,
          1,
          1,
          1,
          1,
          1,
          1,
          1,
          1,
          1,
          1,
          1,
          1,
          1,
          1,
          1,
          1,
          1,
          1,
          1,
          1,
          1,
          1,
          1,
          1,
          1,
          1,
          1,
          1,
          1,
          1,
          1,
          1,
          1,
          1,
          1,
          1,
          1,
          1,
          1,
          1,
          1,
          1,
          1,
          1
         ]
        },
        {
         "hovertemplate": "Time: %{x:.2f}<br>⟨σz⟩: %{y:.3f}<br>Edge: {edge}<extra></extra>",
         "line": {
          "color": "orange",
          "width": 2
         },
         "mode": "lines",
         "name": "Edge (1, 3)",
         "type": "scatter",
         "x": {
          "bdata": "AAAAAAAAAAAxb2dIzNu5PzFvZ0jM28k/ZZNNNtlk0z8xb2dIzNvZP3+lQK1fKeA/ZZNNNtlk4z9LgVq/UqDmPzFvZ0jM2+k/F1100UUX7T9/pUCtXynwP3Icx3Ecx/E/ZZNNNtlk8z9YCtT6lQL1P0uBWr9SoPY/Pvjggw8++D8xb2dIzNv5PyTm7QyJefs/F1100UUX/T8K1PqVArX+P3+lQK1fKQBA+OCDDz74AEByHMdxHMcBQOtXCtT6lQJAZZNNNtlkA0DezpCYtzMEQFgK1PqVAgVA0UUXXXTRBUBLgVq/UqAGQMS8nSExbwdAPvjggw8+CEC3MyTm7QwJQDFvZ0jM2wlAq6qqqqqqCkAk5u0MiXkLQJ4hMW9nSAxAF1100UUXDUCRmLczJOYNQArU+pUCtQ5AhA8++OCDD0B/pUCtXykQQDtDYt7OkBBA+OCDDz74EEC1fqVArV8RQHIcx3EcxxFALrrooosuEkDrVwrU+pUSQKj1KwVq/RJAZZNNNtlkE0AiMW9nSMwTQN7OkJi3MxRAm2yyySabFEBYCtT6lQIVQBWo9SsFahVA0UUXXXTRFUCO4ziO4zgWQEuBWr9SoBZACB988MEHF0DEvJ0hMW8XQIFav1Kg1hdAPvjggw8+GED7lQK1fqUYQLczJObtDBlAdNFFF110GUAxb2dIzNsZQO4MiXk7QxpAq6qqqqqqGkBnSMzbGRIbQCTm7QyJeRtA4YMPPvjgG0CeITFvZ0gcQFq/UqDWrxxAF1100UUXHUDU+pUCtX4dQJGYtzMk5h1ATTbZZJNNHkAK1PqVArUeQMdxHMdxHB9AhA8++OCDH0BArV8pUOsfQH+lQK1fKSBAXXTRRRddIEA7Q2LezpAgQBoS83aGxCBA+OCDDz74IEDXrxSo9SshQLV+pUCtXyFAk0022WSTIUByHMdxHMchQFDrVwrU+iFALrrooosuIkANiXk7Q2IiQOtXCtT6lSJAyiabbLLJIkCo9SsFav0iQIbEvJ0hMSNAZZNNNtlkI0BDYt7OkJgjQCIxb2dIzCNAAAAAAAAAJEA=",
          "dtype": "f8"
         },
         "y": [
          1,
          1,
          1,
          1,
          1,
          1,
          1,
          1,
          1,
          1,
          1,
          1,
          1,
          1,
          1,
          1,
          1,
          1,
          1,
          1,
          1,
          1,
          1,
          1,
          1,
          1,
          1,
          1,
          1,
          1,
          1,
          1,
          1,
          1,
          1,
          1,
          1,
          1,
          1,
          1,
          1,
          1,
          1,
          1,
          1,
          1,
          1,
          1,
          1,
          1,
          1,
          1,
          1,
          1,
          1,
          1,
          1,
          1,
          1,
          1,
          1,
          1,
          1,
          1,
          1,
          1,
          1,
          1,
          1,
          1,
          1,
          1,
          1,
          1,
          1,
          1,
          1,
          1,
          1,
          1,
          1,
          1,
          1,
          1,
          1,
          1,
          1,
          1,
          1,
          1,
          1,
          1,
          1,
          1,
          1,
          1,
          1,
          1,
          1,
          1
         ]
        },
        {
         "hovertemplate": "Time: %{x:.2f}<br>⟨σz⟩: %{y:.3f}<br>Edge: {edge}<extra></extra>",
         "line": {
          "color": "cyan",
          "width": 2
         },
         "mode": "lines",
         "name": "Edge (2, 3)",
         "type": "scatter",
         "x": {
          "bdata": "AAAAAAAAAAAxb2dIzNu5PzFvZ0jM28k/ZZNNNtlk0z8xb2dIzNvZP3+lQK1fKeA/ZZNNNtlk4z9LgVq/UqDmPzFvZ0jM2+k/F1100UUX7T9/pUCtXynwP3Icx3Ecx/E/ZZNNNtlk8z9YCtT6lQL1P0uBWr9SoPY/Pvjggw8++D8xb2dIzNv5PyTm7QyJefs/F1100UUX/T8K1PqVArX+P3+lQK1fKQBA+OCDDz74AEByHMdxHMcBQOtXCtT6lQJAZZNNNtlkA0DezpCYtzMEQFgK1PqVAgVA0UUXXXTRBUBLgVq/UqAGQMS8nSExbwdAPvjggw8+CEC3MyTm7QwJQDFvZ0jM2wlAq6qqqqqqCkAk5u0MiXkLQJ4hMW9nSAxAF1100UUXDUCRmLczJOYNQArU+pUCtQ5AhA8++OCDD0B/pUCtXykQQDtDYt7OkBBA+OCDDz74EEC1fqVArV8RQHIcx3EcxxFALrrooosuEkDrVwrU+pUSQKj1KwVq/RJAZZNNNtlkE0AiMW9nSMwTQN7OkJi3MxRAm2yyySabFEBYCtT6lQIVQBWo9SsFahVA0UUXXXTRFUCO4ziO4zgWQEuBWr9SoBZACB988MEHF0DEvJ0hMW8XQIFav1Kg1hdAPvjggw8+GED7lQK1fqUYQLczJObtDBlAdNFFF110GUAxb2dIzNsZQO4MiXk7QxpAq6qqqqqqGkBnSMzbGRIbQCTm7QyJeRtA4YMPPvjgG0CeITFvZ0gcQFq/UqDWrxxAF1100UUXHUDU+pUCtX4dQJGYtzMk5h1ATTbZZJNNHkAK1PqVArUeQMdxHMdxHB9AhA8++OCDH0BArV8pUOsfQH+lQK1fKSBAXXTRRRddIEA7Q2LezpAgQBoS83aGxCBA+OCDDz74IEDXrxSo9SshQLV+pUCtXyFAk0022WSTIUByHMdxHMchQFDrVwrU+iFALrrooosuIkANiXk7Q2IiQOtXCtT6lSJAyiabbLLJIkCo9SsFav0iQIbEvJ0hMSNAZZNNNtlkI0BDYt7OkJgjQCIxb2dIzCNAAAAAAAAAJEA=",
          "dtype": "f8"
         },
         "y": [
          1,
          1,
          1,
          1,
          1,
          1,
          1,
          1,
          1,
          1,
          1,
          1,
          1,
          1,
          1,
          1,
          1,
          1,
          1,
          1,
          1,
          1,
          1,
          1,
          1,
          1,
          1,
          1,
          1,
          1,
          1,
          1,
          1,
          1,
          1,
          1,
          1,
          1,
          1,
          1,
          1,
          1,
          1,
          1,
          1,
          1,
          1,
          1,
          1,
          1,
          1,
          1,
          1,
          1,
          1,
          1,
          1,
          1,
          1,
          1,
          1,
          1,
          1,
          1,
          1,
          1,
          1,
          1,
          1,
          1,
          1,
          1,
          1,
          1,
          1,
          1,
          1,
          1,
          1,
          1,
          1,
          1,
          1,
          1,
          1,
          1,
          1,
          1,
          1,
          1,
          1,
          1,
          1,
          1,
          1,
          1,
          1,
          1,
          1,
          1
         ]
        }
       ],
       "layout": {
        "height": 400,
        "hovermode": "x unified",
        "showlegend": true,
        "template": {
         "data": {
          "bar": [
           {
            "error_x": {
             "color": "#2a3f5f"
            },
            "error_y": {
             "color": "#2a3f5f"
            },
            "marker": {
             "line": {
              "color": "white",
              "width": 0.5
             },
             "pattern": {
              "fillmode": "overlay",
              "size": 10,
              "solidity": 0.2
             }
            },
            "type": "bar"
           }
          ],
          "barpolar": [
           {
            "marker": {
             "line": {
              "color": "white",
              "width": 0.5
             },
             "pattern": {
              "fillmode": "overlay",
              "size": 10,
              "solidity": 0.2
             }
            },
            "type": "barpolar"
           }
          ],
          "carpet": [
           {
            "aaxis": {
             "endlinecolor": "#2a3f5f",
             "gridcolor": "#C8D4E3",
             "linecolor": "#C8D4E3",
             "minorgridcolor": "#C8D4E3",
             "startlinecolor": "#2a3f5f"
            },
            "baxis": {
             "endlinecolor": "#2a3f5f",
             "gridcolor": "#C8D4E3",
             "linecolor": "#C8D4E3",
             "minorgridcolor": "#C8D4E3",
             "startlinecolor": "#2a3f5f"
            },
            "type": "carpet"
           }
          ],
          "choropleth": [
           {
            "colorbar": {
             "outlinewidth": 0,
             "ticks": ""
            },
            "type": "choropleth"
           }
          ],
          "contour": [
           {
            "colorbar": {
             "outlinewidth": 0,
             "ticks": ""
            },
            "colorscale": [
             [
              0,
              "#0d0887"
             ],
             [
              0.1111111111111111,
              "#46039f"
             ],
             [
              0.2222222222222222,
              "#7201a8"
             ],
             [
              0.3333333333333333,
              "#9c179e"
             ],
             [
              0.4444444444444444,
              "#bd3786"
             ],
             [
              0.5555555555555556,
              "#d8576b"
             ],
             [
              0.6666666666666666,
              "#ed7953"
             ],
             [
              0.7777777777777778,
              "#fb9f3a"
             ],
             [
              0.8888888888888888,
              "#fdca26"
             ],
             [
              1,
              "#f0f921"
             ]
            ],
            "type": "contour"
           }
          ],
          "contourcarpet": [
           {
            "colorbar": {
             "outlinewidth": 0,
             "ticks": ""
            },
            "type": "contourcarpet"
           }
          ],
          "heatmap": [
           {
            "colorbar": {
             "outlinewidth": 0,
             "ticks": ""
            },
            "colorscale": [
             [
              0,
              "#0d0887"
             ],
             [
              0.1111111111111111,
              "#46039f"
             ],
             [
              0.2222222222222222,
              "#7201a8"
             ],
             [
              0.3333333333333333,
              "#9c179e"
             ],
             [
              0.4444444444444444,
              "#bd3786"
             ],
             [
              0.5555555555555556,
              "#d8576b"
             ],
             [
              0.6666666666666666,
              "#ed7953"
             ],
             [
              0.7777777777777778,
              "#fb9f3a"
             ],
             [
              0.8888888888888888,
              "#fdca26"
             ],
             [
              1,
              "#f0f921"
             ]
            ],
            "type": "heatmap"
           }
          ],
          "histogram": [
           {
            "marker": {
             "pattern": {
              "fillmode": "overlay",
              "size": 10,
              "solidity": 0.2
             }
            },
            "type": "histogram"
           }
          ],
          "histogram2d": [
           {
            "colorbar": {
             "outlinewidth": 0,
             "ticks": ""
            },
            "colorscale": [
             [
              0,
              "#0d0887"
             ],
             [
              0.1111111111111111,
              "#46039f"
             ],
             [
              0.2222222222222222,
              "#7201a8"
             ],
             [
              0.3333333333333333,
              "#9c179e"
             ],
             [
              0.4444444444444444,
              "#bd3786"
             ],
             [
              0.5555555555555556,
              "#d8576b"
             ],
             [
              0.6666666666666666,
              "#ed7953"
             ],
             [
              0.7777777777777778,
              "#fb9f3a"
             ],
             [
              0.8888888888888888,
              "#fdca26"
             ],
             [
              1,
              "#f0f921"
             ]
            ],
            "type": "histogram2d"
           }
          ],
          "histogram2dcontour": [
           {
            "colorbar": {
             "outlinewidth": 0,
             "ticks": ""
            },
            "colorscale": [
             [
              0,
              "#0d0887"
             ],
             [
              0.1111111111111111,
              "#46039f"
             ],
             [
              0.2222222222222222,
              "#7201a8"
             ],
             [
              0.3333333333333333,
              "#9c179e"
             ],
             [
              0.4444444444444444,
              "#bd3786"
             ],
             [
              0.5555555555555556,
              "#d8576b"
             ],
             [
              0.6666666666666666,
              "#ed7953"
             ],
             [
              0.7777777777777778,
              "#fb9f3a"
             ],
             [
              0.8888888888888888,
              "#fdca26"
             ],
             [
              1,
              "#f0f921"
             ]
            ],
            "type": "histogram2dcontour"
           }
          ],
          "mesh3d": [
           {
            "colorbar": {
             "outlinewidth": 0,
             "ticks": ""
            },
            "type": "mesh3d"
           }
          ],
          "parcoords": [
           {
            "line": {
             "colorbar": {
              "outlinewidth": 0,
              "ticks": ""
             }
            },
            "type": "parcoords"
           }
          ],
          "pie": [
           {
            "automargin": true,
            "type": "pie"
           }
          ],
          "scatter": [
           {
            "fillpattern": {
             "fillmode": "overlay",
             "size": 10,
             "solidity": 0.2
            },
            "type": "scatter"
           }
          ],
          "scatter3d": [
           {
            "line": {
             "colorbar": {
              "outlinewidth": 0,
              "ticks": ""
             }
            },
            "marker": {
             "colorbar": {
              "outlinewidth": 0,
              "ticks": ""
             }
            },
            "type": "scatter3d"
           }
          ],
          "scattercarpet": [
           {
            "marker": {
             "colorbar": {
              "outlinewidth": 0,
              "ticks": ""
             }
            },
            "type": "scattercarpet"
           }
          ],
          "scattergeo": [
           {
            "marker": {
             "colorbar": {
              "outlinewidth": 0,
              "ticks": ""
             }
            },
            "type": "scattergeo"
           }
          ],
          "scattergl": [
           {
            "marker": {
             "colorbar": {
              "outlinewidth": 0,
              "ticks": ""
             }
            },
            "type": "scattergl"
           }
          ],
          "scattermap": [
           {
            "marker": {
             "colorbar": {
              "outlinewidth": 0,
              "ticks": ""
             }
            },
            "type": "scattermap"
           }
          ],
          "scattermapbox": [
           {
            "marker": {
             "colorbar": {
              "outlinewidth": 0,
              "ticks": ""
             }
            },
            "type": "scattermapbox"
           }
          ],
          "scatterpolar": [
           {
            "marker": {
             "colorbar": {
              "outlinewidth": 0,
              "ticks": ""
             }
            },
            "type": "scatterpolar"
           }
          ],
          "scatterpolargl": [
           {
            "marker": {
             "colorbar": {
              "outlinewidth": 0,
              "ticks": ""
             }
            },
            "type": "scatterpolargl"
           }
          ],
          "scatterternary": [
           {
            "marker": {
             "colorbar": {
              "outlinewidth": 0,
              "ticks": ""
             }
            },
            "type": "scatterternary"
           }
          ],
          "surface": [
           {
            "colorbar": {
             "outlinewidth": 0,
             "ticks": ""
            },
            "colorscale": [
             [
              0,
              "#0d0887"
             ],
             [
              0.1111111111111111,
              "#46039f"
             ],
             [
              0.2222222222222222,
              "#7201a8"
             ],
             [
              0.3333333333333333,
              "#9c179e"
             ],
             [
              0.4444444444444444,
              "#bd3786"
             ],
             [
              0.5555555555555556,
              "#d8576b"
             ],
             [
              0.6666666666666666,
              "#ed7953"
             ],
             [
              0.7777777777777778,
              "#fb9f3a"
             ],
             [
              0.8888888888888888,
              "#fdca26"
             ],
             [
              1,
              "#f0f921"
             ]
            ],
            "type": "surface"
           }
          ],
          "table": [
           {
            "cells": {
             "fill": {
              "color": "#EBF0F8"
             },
             "line": {
              "color": "white"
             }
            },
            "header": {
             "fill": {
              "color": "#C8D4E3"
             },
             "line": {
              "color": "white"
             }
            },
            "type": "table"
           }
          ]
         },
         "layout": {
          "annotationdefaults": {
           "arrowcolor": "#2a3f5f",
           "arrowhead": 0,
           "arrowwidth": 1
          },
          "autotypenumbers": "strict",
          "coloraxis": {
           "colorbar": {
            "outlinewidth": 0,
            "ticks": ""
           }
          },
          "colorscale": {
           "diverging": [
            [
             0,
             "#8e0152"
            ],
            [
             0.1,
             "#c51b7d"
            ],
            [
             0.2,
             "#de77ae"
            ],
            [
             0.3,
             "#f1b6da"
            ],
            [
             0.4,
             "#fde0ef"
            ],
            [
             0.5,
             "#f7f7f7"
            ],
            [
             0.6,
             "#e6f5d0"
            ],
            [
             0.7,
             "#b8e186"
            ],
            [
             0.8,
             "#7fbc41"
            ],
            [
             0.9,
             "#4d9221"
            ],
            [
             1,
             "#276419"
            ]
           ],
           "sequential": [
            [
             0,
             "#0d0887"
            ],
            [
             0.1111111111111111,
             "#46039f"
            ],
            [
             0.2222222222222222,
             "#7201a8"
            ],
            [
             0.3333333333333333,
             "#9c179e"
            ],
            [
             0.4444444444444444,
             "#bd3786"
            ],
            [
             0.5555555555555556,
             "#d8576b"
            ],
            [
             0.6666666666666666,
             "#ed7953"
            ],
            [
             0.7777777777777778,
             "#fb9f3a"
            ],
            [
             0.8888888888888888,
             "#fdca26"
            ],
            [
             1,
             "#f0f921"
            ]
           ],
           "sequentialminus": [
            [
             0,
             "#0d0887"
            ],
            [
             0.1111111111111111,
             "#46039f"
            ],
            [
             0.2222222222222222,
             "#7201a8"
            ],
            [
             0.3333333333333333,
             "#9c179e"
            ],
            [
             0.4444444444444444,
             "#bd3786"
            ],
            [
             0.5555555555555556,
             "#d8576b"
            ],
            [
             0.6666666666666666,
             "#ed7953"
            ],
            [
             0.7777777777777778,
             "#fb9f3a"
            ],
            [
             0.8888888888888888,
             "#fdca26"
            ],
            [
             1,
             "#f0f921"
            ]
           ]
          },
          "colorway": [
           "#636efa",
           "#EF553B",
           "#00cc96",
           "#ab63fa",
           "#FFA15A",
           "#19d3f3",
           "#FF6692",
           "#B6E880",
           "#FF97FF",
           "#FECB52"
          ],
          "font": {
           "color": "#2a3f5f"
          },
          "geo": {
           "bgcolor": "white",
           "lakecolor": "white",
           "landcolor": "white",
           "showlakes": true,
           "showland": true,
           "subunitcolor": "#C8D4E3"
          },
          "hoverlabel": {
           "align": "left"
          },
          "hovermode": "closest",
          "mapbox": {
           "style": "light"
          },
          "paper_bgcolor": "white",
          "plot_bgcolor": "white",
          "polar": {
           "angularaxis": {
            "gridcolor": "#EBF0F8",
            "linecolor": "#EBF0F8",
            "ticks": ""
           },
           "bgcolor": "white",
           "radialaxis": {
            "gridcolor": "#EBF0F8",
            "linecolor": "#EBF0F8",
            "ticks": ""
           }
          },
          "scene": {
           "xaxis": {
            "backgroundcolor": "white",
            "gridcolor": "#DFE8F3",
            "gridwidth": 2,
            "linecolor": "#EBF0F8",
            "showbackground": true,
            "ticks": "",
            "zerolinecolor": "#EBF0F8"
           },
           "yaxis": {
            "backgroundcolor": "white",
            "gridcolor": "#DFE8F3",
            "gridwidth": 2,
            "linecolor": "#EBF0F8",
            "showbackground": true,
            "ticks": "",
            "zerolinecolor": "#EBF0F8"
           },
           "zaxis": {
            "backgroundcolor": "white",
            "gridcolor": "#DFE8F3",
            "gridwidth": 2,
            "linecolor": "#EBF0F8",
            "showbackground": true,
            "ticks": "",
            "zerolinecolor": "#EBF0F8"
           }
          },
          "shapedefaults": {
           "line": {
            "color": "#2a3f5f"
           }
          },
          "ternary": {
           "aaxis": {
            "gridcolor": "#DFE8F3",
            "linecolor": "#A2B1C6",
            "ticks": ""
           },
           "baxis": {
            "gridcolor": "#DFE8F3",
            "linecolor": "#A2B1C6",
            "ticks": ""
           },
           "bgcolor": "white",
           "caxis": {
            "gridcolor": "#DFE8F3",
            "linecolor": "#A2B1C6",
            "ticks": ""
           }
          },
          "title": {
           "x": 0.05
          },
          "xaxis": {
           "automargin": true,
           "gridcolor": "#EBF0F8",
           "linecolor": "#EBF0F8",
           "ticks": "",
           "title": {
            "standoff": 15
           },
           "zerolinecolor": "#EBF0F8",
           "zerolinewidth": 2
          },
          "yaxis": {
           "automargin": true,
           "gridcolor": "#EBF0F8",
           "linecolor": "#EBF0F8",
           "ticks": "",
           "title": {
            "standoff": 15
           },
           "zerolinecolor": "#EBF0F8",
           "zerolinewidth": 2
          }
         }
        },
        "title": {
         "text": "Evolution of Z-component of spin on each edge"
        },
        "width": 800,
        "xaxis": {
         "title": {
          "text": "Time"
         }
        },
        "yaxis": {
         "title": {
          "text": "⟨σz⟩"
         }
        }
       }
      }
     },
     "metadata": {},
     "output_type": "display_data"
    },
    {
     "data": {
      "application/vnd.plotly.v1+json": {
       "config": {
        "plotlyServerURL": "https://plot.ly"
       },
       "data": [
        {
         "line": {
          "color": "blue",
          "width": 2
         },
         "mode": "lines",
         "name": "Edges",
         "type": "scatter3d",
         "x": [
          0,
          1,
          null,
          0,
          0.5,
          null,
          0,
          0.5,
          null,
          1,
          0.5,
          null,
          1,
          0.5,
          null,
          0.5,
          0.5,
          null
         ],
         "y": [
          0,
          0,
          null,
          0,
          0.866,
          null,
          0,
          0.289,
          null,
          0,
          0.866,
          null,
          0,
          0.289,
          null,
          0.866,
          0.289,
          null
         ],
         "z": [
          0,
          0,
          null,
          0,
          0,
          null,
          0,
          0.866,
          null,
          0,
          0,
          null,
          0,
          0.866,
          null,
          0,
          0.866,
          null
         ]
        },
        {
         "marker": {
          "color": "red",
          "size": 12
         },
         "mode": "markers+text",
         "name": "Vertices",
         "text": [
          "0",
          "1",
          "2",
          "3"
         ],
         "type": "scatter3d",
         "x": [
          0,
          1,
          0.5,
          0.5
         ],
         "y": [
          0,
          0,
          0.866,
          0.289
         ],
         "z": [
          0,
          0,
          0,
          0.866
         ]
        },
        {
         "color": "rgb(255,255,255)",
         "name": "Face 0 (J=0.0)",
         "opacity": 0.3,
         "type": "mesh3d",
         "x": [
          0,
          1,
          0.5,
          0
         ],
         "y": [
          0,
          0,
          0.866,
          0
         ],
         "z": [
          0,
          0,
          0,
          0
         ]
        },
        {
         "color": "rgb(255,255,255)",
         "name": "Face 1 (J=0.0)",
         "opacity": 0.3,
         "type": "mesh3d",
         "x": [
          0,
          1,
          0.5,
          0
         ],
         "y": [
          0,
          0,
          0.289,
          0
         ],
         "z": [
          0,
          0,
          0.866,
          0
         ]
        },
        {
         "color": "rgb(255,255,255)",
         "name": "Face 2 (J=0.0)",
         "opacity": 0.3,
         "type": "mesh3d",
         "x": [
          0,
          0.5,
          0.5,
          0
         ],
         "y": [
          0,
          0.866,
          0.289,
          0
         ],
         "z": [
          0,
          0,
          0.866,
          0
         ]
        },
        {
         "color": "rgb(255,255,255)",
         "name": "Face 3 (J=0.0)",
         "opacity": 0.3,
         "type": "mesh3d",
         "x": [
          1,
          0.5,
          0.5,
          1
         ],
         "y": [
          0,
          0.866,
          0.289,
          0
         ],
         "z": [
          0,
          0,
          0.866,
          0
         ]
        }
       ],
       "layout": {
        "height": 500,
        "margin": {
         "b": 0,
         "l": 0,
         "r": 0,
         "t": 50
        },
        "scene": {
         "aspectmode": "cube",
         "xaxis": {
          "title": {
           "text": "X"
          }
         },
         "yaxis": {
          "title": {
           "text": "Y"
          }
         },
         "zaxis": {
          "title": {
           "text": "Z"
          }
         }
        },
        "template": {
         "data": {
          "bar": [
           {
            "error_x": {
             "color": "#2a3f5f"
            },
            "error_y": {
             "color": "#2a3f5f"
            },
            "marker": {
             "line": {
              "color": "#E5ECF6",
              "width": 0.5
             },
             "pattern": {
              "fillmode": "overlay",
              "size": 10,
              "solidity": 0.2
             }
            },
            "type": "bar"
           }
          ],
          "barpolar": [
           {
            "marker": {
             "line": {
              "color": "#E5ECF6",
              "width": 0.5
             },
             "pattern": {
              "fillmode": "overlay",
              "size": 10,
              "solidity": 0.2
             }
            },
            "type": "barpolar"
           }
          ],
          "carpet": [
           {
            "aaxis": {
             "endlinecolor": "#2a3f5f",
             "gridcolor": "white",
             "linecolor": "white",
             "minorgridcolor": "white",
             "startlinecolor": "#2a3f5f"
            },
            "baxis": {
             "endlinecolor": "#2a3f5f",
             "gridcolor": "white",
             "linecolor": "white",
             "minorgridcolor": "white",
             "startlinecolor": "#2a3f5f"
            },
            "type": "carpet"
           }
          ],
          "choropleth": [
           {
            "colorbar": {
             "outlinewidth": 0,
             "ticks": ""
            },
            "type": "choropleth"
           }
          ],
          "contour": [
           {
            "colorbar": {
             "outlinewidth": 0,
             "ticks": ""
            },
            "colorscale": [
             [
              0,
              "#0d0887"
             ],
             [
              0.1111111111111111,
              "#46039f"
             ],
             [
              0.2222222222222222,
              "#7201a8"
             ],
             [
              0.3333333333333333,
              "#9c179e"
             ],
             [
              0.4444444444444444,
              "#bd3786"
             ],
             [
              0.5555555555555556,
              "#d8576b"
             ],
             [
              0.6666666666666666,
              "#ed7953"
             ],
             [
              0.7777777777777778,
              "#fb9f3a"
             ],
             [
              0.8888888888888888,
              "#fdca26"
             ],
             [
              1,
              "#f0f921"
             ]
            ],
            "type": "contour"
           }
          ],
          "contourcarpet": [
           {
            "colorbar": {
             "outlinewidth": 0,
             "ticks": ""
            },
            "type": "contourcarpet"
           }
          ],
          "heatmap": [
           {
            "colorbar": {
             "outlinewidth": 0,
             "ticks": ""
            },
            "colorscale": [
             [
              0,
              "#0d0887"
             ],
             [
              0.1111111111111111,
              "#46039f"
             ],
             [
              0.2222222222222222,
              "#7201a8"
             ],
             [
              0.3333333333333333,
              "#9c179e"
             ],
             [
              0.4444444444444444,
              "#bd3786"
             ],
             [
              0.5555555555555556,
              "#d8576b"
             ],
             [
              0.6666666666666666,
              "#ed7953"
             ],
             [
              0.7777777777777778,
              "#fb9f3a"
             ],
             [
              0.8888888888888888,
              "#fdca26"
             ],
             [
              1,
              "#f0f921"
             ]
            ],
            "type": "heatmap"
           }
          ],
          "histogram": [
           {
            "marker": {
             "pattern": {
              "fillmode": "overlay",
              "size": 10,
              "solidity": 0.2
             }
            },
            "type": "histogram"
           }
          ],
          "histogram2d": [
           {
            "colorbar": {
             "outlinewidth": 0,
             "ticks": ""
            },
            "colorscale": [
             [
              0,
              "#0d0887"
             ],
             [
              0.1111111111111111,
              "#46039f"
             ],
             [
              0.2222222222222222,
              "#7201a8"
             ],
             [
              0.3333333333333333,
              "#9c179e"
             ],
             [
              0.4444444444444444,
              "#bd3786"
             ],
             [
              0.5555555555555556,
              "#d8576b"
             ],
             [
              0.6666666666666666,
              "#ed7953"
             ],
             [
              0.7777777777777778,
              "#fb9f3a"
             ],
             [
              0.8888888888888888,
              "#fdca26"
             ],
             [
              1,
              "#f0f921"
             ]
            ],
            "type": "histogram2d"
           }
          ],
          "histogram2dcontour": [
           {
            "colorbar": {
             "outlinewidth": 0,
             "ticks": ""
            },
            "colorscale": [
             [
              0,
              "#0d0887"
             ],
             [
              0.1111111111111111,
              "#46039f"
             ],
             [
              0.2222222222222222,
              "#7201a8"
             ],
             [
              0.3333333333333333,
              "#9c179e"
             ],
             [
              0.4444444444444444,
              "#bd3786"
             ],
             [
              0.5555555555555556,
              "#d8576b"
             ],
             [
              0.6666666666666666,
              "#ed7953"
             ],
             [
              0.7777777777777778,
              "#fb9f3a"
             ],
             [
              0.8888888888888888,
              "#fdca26"
             ],
             [
              1,
              "#f0f921"
             ]
            ],
            "type": "histogram2dcontour"
           }
          ],
          "mesh3d": [
           {
            "colorbar": {
             "outlinewidth": 0,
             "ticks": ""
            },
            "type": "mesh3d"
           }
          ],
          "parcoords": [
           {
            "line": {
             "colorbar": {
              "outlinewidth": 0,
              "ticks": ""
             }
            },
            "type": "parcoords"
           }
          ],
          "pie": [
           {
            "automargin": true,
            "type": "pie"
           }
          ],
          "scatter": [
           {
            "fillpattern": {
             "fillmode": "overlay",
             "size": 10,
             "solidity": 0.2
            },
            "type": "scatter"
           }
          ],
          "scatter3d": [
           {
            "line": {
             "colorbar": {
              "outlinewidth": 0,
              "ticks": ""
             }
            },
            "marker": {
             "colorbar": {
              "outlinewidth": 0,
              "ticks": ""
             }
            },
            "type": "scatter3d"
           }
          ],
          "scattercarpet": [
           {
            "marker": {
             "colorbar": {
              "outlinewidth": 0,
              "ticks": ""
             }
            },
            "type": "scattercarpet"
           }
          ],
          "scattergeo": [
           {
            "marker": {
             "colorbar": {
              "outlinewidth": 0,
              "ticks": ""
             }
            },
            "type": "scattergeo"
           }
          ],
          "scattergl": [
           {
            "marker": {
             "colorbar": {
              "outlinewidth": 0,
              "ticks": ""
             }
            },
            "type": "scattergl"
           }
          ],
          "scattermap": [
           {
            "marker": {
             "colorbar": {
              "outlinewidth": 0,
              "ticks": ""
             }
            },
            "type": "scattermap"
           }
          ],
          "scattermapbox": [
           {
            "marker": {
             "colorbar": {
              "outlinewidth": 0,
              "ticks": ""
             }
            },
            "type": "scattermapbox"
           }
          ],
          "scatterpolar": [
           {
            "marker": {
             "colorbar": {
              "outlinewidth": 0,
              "ticks": ""
             }
            },
            "type": "scatterpolar"
           }
          ],
          "scatterpolargl": [
           {
            "marker": {
             "colorbar": {
              "outlinewidth": 0,
              "ticks": ""
             }
            },
            "type": "scatterpolargl"
           }
          ],
          "scatterternary": [
           {
            "marker": {
             "colorbar": {
              "outlinewidth": 0,
              "ticks": ""
             }
            },
            "type": "scatterternary"
           }
          ],
          "surface": [
           {
            "colorbar": {
             "outlinewidth": 0,
             "ticks": ""
            },
            "colorscale": [
             [
              0,
              "#0d0887"
             ],
             [
              0.1111111111111111,
              "#46039f"
             ],
             [
              0.2222222222222222,
              "#7201a8"
             ],
             [
              0.3333333333333333,
              "#9c179e"
             ],
             [
              0.4444444444444444,
              "#bd3786"
             ],
             [
              0.5555555555555556,
              "#d8576b"
             ],
             [
              0.6666666666666666,
              "#ed7953"
             ],
             [
              0.7777777777777778,
              "#fb9f3a"
             ],
             [
              0.8888888888888888,
              "#fdca26"
             ],
             [
              1,
              "#f0f921"
             ]
            ],
            "type": "surface"
           }
          ],
          "table": [
           {
            "cells": {
             "fill": {
              "color": "#EBF0F8"
             },
             "line": {
              "color": "white"
             }
            },
            "header": {
             "fill": {
              "color": "#C8D4E3"
             },
             "line": {
              "color": "white"
             }
            },
            "type": "table"
           }
          ]
         },
         "layout": {
          "annotationdefaults": {
           "arrowcolor": "#2a3f5f",
           "arrowhead": 0,
           "arrowwidth": 1
          },
          "autotypenumbers": "strict",
          "coloraxis": {
           "colorbar": {
            "outlinewidth": 0,
            "ticks": ""
           }
          },
          "colorscale": {
           "diverging": [
            [
             0,
             "#8e0152"
            ],
            [
             0.1,
             "#c51b7d"
            ],
            [
             0.2,
             "#de77ae"
            ],
            [
             0.3,
             "#f1b6da"
            ],
            [
             0.4,
             "#fde0ef"
            ],
            [
             0.5,
             "#f7f7f7"
            ],
            [
             0.6,
             "#e6f5d0"
            ],
            [
             0.7,
             "#b8e186"
            ],
            [
             0.8,
             "#7fbc41"
            ],
            [
             0.9,
             "#4d9221"
            ],
            [
             1,
             "#276419"
            ]
           ],
           "sequential": [
            [
             0,
             "#0d0887"
            ],
            [
             0.1111111111111111,
             "#46039f"
            ],
            [
             0.2222222222222222,
             "#7201a8"
            ],
            [
             0.3333333333333333,
             "#9c179e"
            ],
            [
             0.4444444444444444,
             "#bd3786"
            ],
            [
             0.5555555555555556,
             "#d8576b"
            ],
            [
             0.6666666666666666,
             "#ed7953"
            ],
            [
             0.7777777777777778,
             "#fb9f3a"
            ],
            [
             0.8888888888888888,
             "#fdca26"
            ],
            [
             1,
             "#f0f921"
            ]
           ],
           "sequentialminus": [
            [
             0,
             "#0d0887"
            ],
            [
             0.1111111111111111,
             "#46039f"
            ],
            [
             0.2222222222222222,
             "#7201a8"
            ],
            [
             0.3333333333333333,
             "#9c179e"
            ],
            [
             0.4444444444444444,
             "#bd3786"
            ],
            [
             0.5555555555555556,
             "#d8576b"
            ],
            [
             0.6666666666666666,
             "#ed7953"
            ],
            [
             0.7777777777777778,
             "#fb9f3a"
            ],
            [
             0.8888888888888888,
             "#fdca26"
            ],
            [
             1,
             "#f0f921"
            ]
           ]
          },
          "colorway": [
           "#636efa",
           "#EF553B",
           "#00cc96",
           "#ab63fa",
           "#FFA15A",
           "#19d3f3",
           "#FF6692",
           "#B6E880",
           "#FF97FF",
           "#FECB52"
          ],
          "font": {
           "color": "#2a3f5f"
          },
          "geo": {
           "bgcolor": "white",
           "lakecolor": "white",
           "landcolor": "#E5ECF6",
           "showlakes": true,
           "showland": true,
           "subunitcolor": "white"
          },
          "hoverlabel": {
           "align": "left"
          },
          "hovermode": "closest",
          "mapbox": {
           "style": "light"
          },
          "paper_bgcolor": "white",
          "plot_bgcolor": "#E5ECF6",
          "polar": {
           "angularaxis": {
            "gridcolor": "white",
            "linecolor": "white",
            "ticks": ""
           },
           "bgcolor": "#E5ECF6",
           "radialaxis": {
            "gridcolor": "white",
            "linecolor": "white",
            "ticks": ""
           }
          },
          "scene": {
           "xaxis": {
            "backgroundcolor": "#E5ECF6",
            "gridcolor": "white",
            "gridwidth": 2,
            "linecolor": "white",
            "showbackground": true,
            "ticks": "",
            "zerolinecolor": "white"
           },
           "yaxis": {
            "backgroundcolor": "#E5ECF6",
            "gridcolor": "white",
            "gridwidth": 2,
            "linecolor": "white",
            "showbackground": true,
            "ticks": "",
            "zerolinecolor": "white"
           },
           "zaxis": {
            "backgroundcolor": "#E5ECF6",
            "gridcolor": "white",
            "gridwidth": 2,
            "linecolor": "white",
            "showbackground": true,
            "ticks": "",
            "zerolinecolor": "white"
           }
          },
          "shapedefaults": {
           "line": {
            "color": "#2a3f5f"
           }
          },
          "ternary": {
           "aaxis": {
            "gridcolor": "white",
            "linecolor": "white",
            "ticks": ""
           },
           "baxis": {
            "gridcolor": "white",
            "linecolor": "white",
            "ticks": ""
           },
           "bgcolor": "#E5ECF6",
           "caxis": {
            "gridcolor": "white",
            "linecolor": "white",
            "ticks": ""
           }
          },
          "title": {
           "x": 0.05
          },
          "xaxis": {
           "automargin": true,
           "gridcolor": "white",
           "linecolor": "white",
           "ticks": "",
           "title": {
            "standoff": 15
           },
           "zerolinecolor": "white",
           "zerolinewidth": 2
          },
          "yaxis": {
           "automargin": true,
           "gridcolor": "white",
           "linecolor": "white",
           "ticks": "",
           "title": {
            "standoff": 15
           },
           "zerolinecolor": "white",
           "zerolinewidth": 2
          }
         }
        },
        "title": {
         "text": "Tetrahedron with Coupling Strengths"
        },
        "width": 500
       }
      }
     },
     "metadata": {},
     "output_type": "display_data"
    }
   ],
   "source": [
    "# Create output widgets for plots\n",
    "plot_output = widgets.Output()\n",
    "controls_output = widgets.Output()\n",
    "\n",
    "# Create sliders for each face's coupling strength\n",
    "coupling_sliders = {}\n",
    "for i in range(4):\n",
    "    default_value = 1.0 if i == 0 else (0.5 if i == 1 else (-0.7 if i == 2 else 0.3))\n",
    "    slider = widgets.FloatSlider(\n",
    "        value=default_value,\n",
    "        min=-2.0,\n",
    "        max=2.0,\n",
    "        step=0.1,\n",
    "        description=f'Face {i}:',\n",
    "        continuous_update=False,\n",
    "        layout=widgets.Layout(width='400px')\n",
    "    )\n",
    "    coupling_sliders[i] = slider\n",
    "    display(slider)\n",
    "\n",
    "reset_button = widgets.Button(\n",
    "    description='Reset Couplings',\n",
    "    button_style='info',\n",
    "    layout=widgets.Layout(width='200px')\n",
    ")\n",
    "\n",
    "def reset_couplings(b):\n",
    "    default_values = {0: 1.0, 1: 1.0, 2: 1.0, 3: 1.0}\n",
    "    for i, slider in coupling_sliders.items():\n",
    "        slider.value = default_values[i]\n",
    "\n",
    "reset_button.on_click(reset_couplings)\n",
    "display(reset_button)\n",
    "\n",
    "# Add some visual spacing\n",
    "display(widgets.HTML(\"<br>\"))\n",
    "\n",
    "def update_visualization(change=None):\n",
    "    # Update the 3D tetrahedron visualization with colored faces\n",
    "    fig3d = go.Figure()\n",
    "    \n",
    "    # Add edges (lines)\n",
    "    fig3d.add_trace(go.Scatter3d(\n",
    "        x=edge_x, y=edge_y, z=edge_z,\n",
    "        mode='lines',\n",
    "        line=dict(color='blue', width=2),\n",
    "        name='Edges'\n",
    "    ))\n",
    "    \n",
    "    # Add vertices (nodes)\n",
    "    fig3d.add_trace(go.Scatter3d(\n",
    "        x=node_x, y=node_y, z=node_z,\n",
    "        mode='markers+text',\n",
    "        marker=dict(size=12, color='red'),\n",
    "        text=[str(i) for i in G.nodes()],\n",
    "        name='Vertices'\n",
    "    ))\n",
    "    \n",
    "    # Add faces with colors based on coupling strengths\n",
    "    for face_idx, face_verts in enumerate(faces):\n",
    "        coupling = coupling_sliders[face_idx].value\n",
    "        # Normalize color based on coupling strength\n",
    "        color = f'rgb({int(255*(1+coupling/2))},{int(255*(1-abs(coupling)/2))},{int(255*(1-coupling/2))})'\n",
    "        \n",
    "        # Create triangular face\n",
    "        x = [pos[v][0] for v in face_verts] + [pos[face_verts[0]][0]]\n",
    "        y = [pos[v][1] for v in face_verts] + [pos[face_verts[0]][1]]\n",
    "        z = [pos[v][2] for v in face_verts] + [pos[face_verts[0]][2]]\n",
    "        \n",
    "        fig3d.add_trace(go.Mesh3d(\n",
    "            x=x, y=y, z=z,\n",
    "            opacity=0.3,\n",
    "            color=color,\n",
    "            name=f'Face {face_idx} (J={coupling:.1f})'\n",
    "        ))\n",
    "    \n",
    "    fig3d.update_layout(\n",
    "        title='Tetrahedron with Coupling Strengths',\n",
    "        scene=dict(\n",
    "            xaxis_title='X',\n",
    "            yaxis_title='Y',\n",
    "            zaxis_title='Z',\n",
    "            aspectmode='cube'\n",
    "        ),\n",
    "        width=500,\n",
    "        height=500,\n",
    "        margin=dict(t=50, b=0, l=0, r=0)\n",
    "    )\n",
    "    \n",
    "    # Calculate new Hamiltonian and evolution\n",
    "    def create_face_hamiltonian(face_idx):\n",
    "        edges = face_edges[face_idx]\n",
    "        J = coupling_sliders[face_idx].value\n",
    "        H_face = 0\n",
    "        for op in ['X', 'Y', 'Z']:\n",
    "            term = J * spin_ops[edges[0]][op] * spin_ops[edges[1]][op] * spin_ops[edges[2]][op]\n",
    "            H_face += term\n",
    "        return H_face\n",
    "    \n",
    "    H_total = sum(create_face_hamiltonian(face_idx) for face_idx in face_edges)\n",
    "    \n",
    "    # Evolve the state\n",
    "    result = qt.sesolve(H_total, psi, times)\n",
    "    \n",
    "    # Calculate expectation values\n",
    "    z_expectations_t = {edge: [qt.expect(ops['Z'], state) \n",
    "                             for state in result.states]\n",
    "                           for edge, ops in spin_ops.items()}\n",
    "    \n",
    "    # Update evolution plot\n",
    "    fig_evolution = go.Figure()\n",
    "    \n",
    "    colors = ['blue', 'red', 'green', 'purple', 'orange', 'cyan']\n",
    "    for (edge, expecs), color in zip(z_expectations_t.items(), colors):\n",
    "        fig_evolution.add_trace(go.Scatter(\n",
    "            x=times,\n",
    "            y=expecs,\n",
    "            mode='lines',\n",
    "            name=f'Edge {edge}',\n",
    "            line=dict(color=color, width=2),\n",
    "            hovertemplate='Time: %{x:.2f}<br>⟨σz⟩: %{y:.3f}<br>Edge: {edge}<extra></extra>'\n",
    "        ))\n",
    "    \n",
    "    fig_evolution.update_layout(\n",
    "        title='Evolution of Z-component of spin on each edge',\n",
    "        xaxis_title='Time',\n",
    "        yaxis_title='⟨σz⟩',\n",
    "        hovermode='x unified',\n",
    "        showlegend=True,\n",
    "        width=800,\n",
    "        height=400,\n",
    "        template='plotly_white'\n",
    "    )\n",
    "    \n",
    "    # Display plots in fixed order\n",
    "    clear_output(wait=True)\n",
    "    \n",
    "    # Redisplay controls\n",
    "    for slider in coupling_sliders.values():\n",
    "        display(slider)\n",
    "    display(reset_button)\n",
    "    display(widgets.HTML(\"<br>\"))\n",
    "    \n",
    "    # Display plots\n",
    "    display(fig_evolution)\n",
    "    display(fig3d)\n",
    "\n",
    "# Connect sliders to update function\n",
    "for slider in coupling_sliders.values():\n",
    "    slider.observe(update_visualization, names='value')\n",
    "\n",
    "# Initial visualization\n",
    "update_visualization()"
   ]
  },
  {
   "cell_type": "markdown",
   "id": "32c6d1f5",
   "metadata": {},
   "source": [
    "# Mathematical Description of the Quantum Tetrahedron System\n",
    "\n",
    "## 1. System Structure\n",
    "\n",
    "Our system consists of a tetrahedron with:\n",
    "- 4 vertices labeled $\\{0,1,2,3\\}$\n",
    "- 6 edges, each carrying a spin-1/2 quantum state\n",
    "- 4 faces, each bounded by 3 edges\n",
    "\n",
    "## 2. Quantum State Space\n",
    "\n",
    "Each edge carries a spin-1/2 state, so:\n",
    "- Single edge Hilbert space: $\\mathcal{H}_e \\cong \\mathbb{C}^2$\n",
    "- Total Hilbert space: $\\mathcal{H} = \\bigotimes_{e=1}^6 \\mathcal{H}_e \\cong (\\mathbb{C}^2)^{\\otimes 6}$\n",
    "\n",
    "The basis states for each edge are:\n",
    "- Spin up: $|\\uparrow\\rangle = |0\\rangle = \\begin{pmatrix}1\\\\0\\end{pmatrix}$\n",
    "- Spin down: $|\\downarrow\\rangle = |1\\rangle = \\begin{pmatrix}0\\\\1\\end{pmatrix}$\n",
    "\n",
    "## 3. Spin Operators\n",
    "\n",
    "For each edge $e$, we have the Pauli operators:\n",
    "\n",
    "$$\n",
    "\\sigma^x_e = \\begin{pmatrix}0 & 1\\\\1 & 0\\end{pmatrix}, \\quad\n",
    "\\sigma^y_e = \\begin{pmatrix}0 & -i\\\\i & 0\\end{pmatrix}, \\quad\n",
    "\\sigma^z_e = \\begin{pmatrix}1 & 0\\\\0 & -1\\end{pmatrix}\n",
    "$$\n",
    "\n",
    "In the full Hilbert space, these become:\n",
    "\n",
    "$\\sigma^\\alpha_e = I \\otimes \\cdots \\otimes \\sigma^\\alpha \\otimes \\cdots \\otimes I$\n",
    "\n",
    "where $\\sigma^\\alpha$ appears in the $e$-th position ($\\alpha = x,y,z$)."
   ]
  },
  {
   "cell_type": "markdown",
   "id": "0adb7a2e",
   "metadata": {},
   "source": [
    "## 4. Three-Body Interactions\n",
    "\n",
    "For each face $f$ of the tetrahedron, we have three edges $\\{e_1^f, e_2^f, e_3^f\\}$ forming its boundary. The interaction Hamiltonian for face $f$ is:\n",
    "\n",
    "$$\n",
    "H_f = J_f \\sum_{\\alpha=x,y,z} \\sigma^\\alpha_{e_1^f} \\sigma^\\alpha_{e_2^f} \\sigma^\\alpha_{e_3^f}\n",
    "$$\n",
    "\n",
    "where:\n",
    "- $J_f$ is the coupling strength for face $f$ (controlled by sliders)\n",
    "- The sum over $\\alpha$ creates an isotropic interaction\n",
    "\n",
    "## 5. Total Hamiltonian\n",
    "\n",
    "The total Hamiltonian is the sum over all faces:\n",
    "\n",
    "$$\n",
    "H_{\\text{total}} = \\sum_{f=0}^3 H_f = \\sum_{f=0}^3 J_f \\sum_{\\alpha=x,y,z} \\sigma^\\alpha_{e_1^f} \\sigma^\\alpha_{e_2^f} \\sigma^\\alpha_{e_3^f}\n",
    "$$\n",
    "\n",
    "## 6. Time Evolution\n",
    "\n",
    "The system evolves according to the Schrödinger equation:\n",
    "\n",
    "$$\n",
    "i\\hbar \\frac{d}{dt}|\\psi(t)\\rangle = H_{\\text{total}}|\\psi(t)\\rangle\n",
    "$$\n",
    "\n",
    "Given our initial state $|\\psi(0)\\rangle = |\\uparrow\\uparrow\\uparrow\\uparrow\\uparrow\\uparrow\\rangle$, the solution is:\n",
    "\n",
    "$$\n",
    "|\\psi(t)\\rangle = e^{-iH_{\\text{total}}t/\\hbar}|\\psi(0)\\rangle\n",
    "$$\n",
    "\n",
    "We measure the z-component of spin on each edge as the system evolves:\n",
    "\n",
    "$$\n",
    "\\langle\\sigma^z_e(t)\\rangle = \\langle\\psi(t)|\\sigma^z_e|\\psi(t)\\rangle\n",
    "$$\n",
    "\n",
    "The plots show these expectation values as functions of time for each edge."
   ]
  },
  {
   "cell_type": "code",
   "execution_count": null,
   "id": "f122c9cd",
   "metadata": {},
   "outputs": [],
   "source": []
  }
 ],
 "metadata": {
  "kernelspec": {
   "display_name": "spin-net",
   "language": "python",
   "name": "python3"
  },
  "language_info": {
   "codemirror_mode": {
    "name": "ipython",
    "version": 3
   },
   "file_extension": ".py",
   "mimetype": "text/x-python",
   "name": "python",
   "nbconvert_exporter": "python",
   "pygments_lexer": "ipython3",
   "version": "3.10.17"
  }
 },
 "nbformat": 4,
 "nbformat_minor": 5
}
